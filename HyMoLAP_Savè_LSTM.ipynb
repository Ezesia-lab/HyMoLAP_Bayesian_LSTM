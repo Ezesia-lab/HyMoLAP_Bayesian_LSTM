{
  "cells": [
    {
      "cell_type": "markdown",
      "source": [
        "This code compares the HyMoLAP and LSTM models performance for multi-day ahead streamflow simulation in the Savè sub-catchment."
      ],
      "metadata": {
        "id": "sgxKdPjf3Yth"
      }
    },
    {
      "cell_type": "code",
      "execution_count": 861,
      "metadata": {
        "id": "QHwImzYDzpMn"
      },
      "outputs": [],
      "source": [
        "# Librairies\n",
        "import pandas as pd\n",
        "from matplotlib import pylab as plt\n",
        "from datetime import datetime\n",
        "import numpy as np\n",
        "from math import sqrt\n",
        "from numpy import concatenate\n",
        "\n",
        "import math\n",
        "\n",
        "from scipy.stats import norm\n",
        "\n",
        "import joblib\n",
        "import matplotlib.dates as mdates\n",
        "from google.colab import files\n",
        "\n",
        "from sklearn.preprocessing import MinMaxScaler\n",
        "from sklearn.metrics import mean_squared_error\n",
        "\n",
        "import torch\n",
        "import torch.nn as nn\n",
        "import torch.optim as optim\n",
        "\n",
        "import json"
      ]
    },
    {
      "cell_type": "code",
      "execution_count": 862,
      "metadata": {
        "id": "C4xu_V8k2THU"
      },
      "outputs": [],
      "source": [
        "import random\n",
        "import os\n",
        "\n",
        "# Set seed\n",
        "SEED = 42\n",
        "torch.manual_seed(SEED)\n",
        "torch.cuda.manual_seed_all(SEED)  # If you are using CUDA\n",
        "np.random.seed(SEED)\n",
        "random.seed(SEED)"
      ]
    },
    {
      "cell_type": "code",
      "execution_count": 863,
      "metadata": {
        "id": "Rq8OX1O_Fb5K"
      },
      "outputs": [],
      "source": [
        "#NSE, RMSE, KGE\n",
        "def nash_sutcliffe_efficiency(observed, simulated):\n",
        "    obs_mean = np.mean(observed)\n",
        "    numerator = np.sum((observed - simulated) ** 2)\n",
        "    denominator = np.sum((observed - obs_mean) ** 2)\n",
        "\n",
        "    nse = 1 - (numerator / denominator)\n",
        "    return nse\n",
        "\n",
        "def calculate_rmse(observed, predicted):\n",
        "\n",
        "    rmse = np.sqrt(np.mean((observed - predicted)**2))\n",
        "    return rmse\n",
        "\n",
        "def kge(obs, sim):\n",
        "    \"\"\" Kling-Gupta Efficiency (KGE)\"\"\"\n",
        "    obs, sim = np.array(obs), np.array(sim)\n",
        "\n",
        "    r = np.corrcoef(obs, sim)[0, 1]\n",
        "    beta = np.mean(sim) / np.mean(obs)\n",
        "    gamma = (np.std(sim) / np.mean(sim)) / (np.std(obs) / np.mean(obs))\n",
        "\n",
        "    return 1 - np.sqrt((r - 1)**2 + (beta - 1)**2 + (gamma - 1)**2)\n"
      ]
    },
    {
      "cell_type": "code",
      "execution_count": 864,
      "metadata": {
        "id": "AGCGW8zLhixe",
        "colab": {
          "base_uri": "https://localhost:8080/"
        },
        "outputId": "0f3831ae-5f82-4fa5-f9d3-afe77ab09681"
      },
      "outputs": [
        {
          "output_type": "stream",
          "name": "stdout",
          "text": [
            "Drive already mounted at /content/drive; to attempt to forcibly remount, call drive.mount(\"/content/drive\", force_remount=True).\n"
          ]
        }
      ],
      "source": [
        "# Import data\n",
        "from google.colab import drive\n",
        "drive.mount('/content/drive')\n",
        "\n",
        "daily = pd.read_excel('/content/drive/MyDrive/Colab Notebooks/SDE_driven/savè.xlsx')\n",
        "#('/content/drive/MyDrive/Colab Notebooks/Bonou/calage_biao.xlsx')"
      ]
    },
    {
      "cell_type": "code",
      "source": [
        "daily.head()"
      ],
      "metadata": {
        "colab": {
          "base_uri": "https://localhost:8080/",
          "height": 206
        },
        "id": "-8iTlvec-Y5O",
        "outputId": "1107b9dd-49f1-416d-8992-5c8a87eee8eb"
      },
      "execution_count": 865,
      "outputs": [
        {
          "output_type": "execute_result",
          "data": {
            "text/plain": [
              "   debit   pluie       etp  Unnamed: 3               Unnamed: 4  Unnamed: 5  \\\n",
              "0  0.064  5.6982  3.251933         NaN  1-07-2002 to 31-12-2007         NaN   \n",
              "1  0.064  8.1508  3.148102         NaN                      NaN         NaN   \n",
              "2  0.064  5.4436  3.164040         NaN                      NaN         NaN   \n",
              "3  0.064  2.4449  3.202455         NaN                      NaN         NaN   \n",
              "4  0.064  4.7224  2.461412         NaN                      NaN         NaN   \n",
              "\n",
              "   Unnamed: 6  \n",
              "0         NaN  \n",
              "1         NaN  \n",
              "2         NaN  \n",
              "3         NaN  \n",
              "4         NaN  "
            ],
            "text/html": [
              "\n",
              "  <div id=\"df-35f53780-98c5-4923-9148-19f4417cf23f\" class=\"colab-df-container\">\n",
              "    <div>\n",
              "<style scoped>\n",
              "    .dataframe tbody tr th:only-of-type {\n",
              "        vertical-align: middle;\n",
              "    }\n",
              "\n",
              "    .dataframe tbody tr th {\n",
              "        vertical-align: top;\n",
              "    }\n",
              "\n",
              "    .dataframe thead th {\n",
              "        text-align: right;\n",
              "    }\n",
              "</style>\n",
              "<table border=\"1\" class=\"dataframe\">\n",
              "  <thead>\n",
              "    <tr style=\"text-align: right;\">\n",
              "      <th></th>\n",
              "      <th>debit</th>\n",
              "      <th>pluie</th>\n",
              "      <th>etp</th>\n",
              "      <th>Unnamed: 3</th>\n",
              "      <th>Unnamed: 4</th>\n",
              "      <th>Unnamed: 5</th>\n",
              "      <th>Unnamed: 6</th>\n",
              "    </tr>\n",
              "  </thead>\n",
              "  <tbody>\n",
              "    <tr>\n",
              "      <th>0</th>\n",
              "      <td>0.064</td>\n",
              "      <td>5.6982</td>\n",
              "      <td>3.251933</td>\n",
              "      <td>NaN</td>\n",
              "      <td>1-07-2002 to 31-12-2007</td>\n",
              "      <td>NaN</td>\n",
              "      <td>NaN</td>\n",
              "    </tr>\n",
              "    <tr>\n",
              "      <th>1</th>\n",
              "      <td>0.064</td>\n",
              "      <td>8.1508</td>\n",
              "      <td>3.148102</td>\n",
              "      <td>NaN</td>\n",
              "      <td>NaN</td>\n",
              "      <td>NaN</td>\n",
              "      <td>NaN</td>\n",
              "    </tr>\n",
              "    <tr>\n",
              "      <th>2</th>\n",
              "      <td>0.064</td>\n",
              "      <td>5.4436</td>\n",
              "      <td>3.164040</td>\n",
              "      <td>NaN</td>\n",
              "      <td>NaN</td>\n",
              "      <td>NaN</td>\n",
              "      <td>NaN</td>\n",
              "    </tr>\n",
              "    <tr>\n",
              "      <th>3</th>\n",
              "      <td>0.064</td>\n",
              "      <td>2.4449</td>\n",
              "      <td>3.202455</td>\n",
              "      <td>NaN</td>\n",
              "      <td>NaN</td>\n",
              "      <td>NaN</td>\n",
              "      <td>NaN</td>\n",
              "    </tr>\n",
              "    <tr>\n",
              "      <th>4</th>\n",
              "      <td>0.064</td>\n",
              "      <td>4.7224</td>\n",
              "      <td>2.461412</td>\n",
              "      <td>NaN</td>\n",
              "      <td>NaN</td>\n",
              "      <td>NaN</td>\n",
              "      <td>NaN</td>\n",
              "    </tr>\n",
              "  </tbody>\n",
              "</table>\n",
              "</div>\n",
              "    <div class=\"colab-df-buttons\">\n",
              "\n",
              "  <div class=\"colab-df-container\">\n",
              "    <button class=\"colab-df-convert\" onclick=\"convertToInteractive('df-35f53780-98c5-4923-9148-19f4417cf23f')\"\n",
              "            title=\"Convert this dataframe to an interactive table.\"\n",
              "            style=\"display:none;\">\n",
              "\n",
              "  <svg xmlns=\"http://www.w3.org/2000/svg\" height=\"24px\" viewBox=\"0 -960 960 960\">\n",
              "    <path d=\"M120-120v-720h720v720H120Zm60-500h600v-160H180v160Zm220 220h160v-160H400v160Zm0 220h160v-160H400v160ZM180-400h160v-160H180v160Zm440 0h160v-160H620v160ZM180-180h160v-160H180v160Zm440 0h160v-160H620v160Z\"/>\n",
              "  </svg>\n",
              "    </button>\n",
              "\n",
              "  <style>\n",
              "    .colab-df-container {\n",
              "      display:flex;\n",
              "      gap: 12px;\n",
              "    }\n",
              "\n",
              "    .colab-df-convert {\n",
              "      background-color: #E8F0FE;\n",
              "      border: none;\n",
              "      border-radius: 50%;\n",
              "      cursor: pointer;\n",
              "      display: none;\n",
              "      fill: #1967D2;\n",
              "      height: 32px;\n",
              "      padding: 0 0 0 0;\n",
              "      width: 32px;\n",
              "    }\n",
              "\n",
              "    .colab-df-convert:hover {\n",
              "      background-color: #E2EBFA;\n",
              "      box-shadow: 0px 1px 2px rgba(60, 64, 67, 0.3), 0px 1px 3px 1px rgba(60, 64, 67, 0.15);\n",
              "      fill: #174EA6;\n",
              "    }\n",
              "\n",
              "    .colab-df-buttons div {\n",
              "      margin-bottom: 4px;\n",
              "    }\n",
              "\n",
              "    [theme=dark] .colab-df-convert {\n",
              "      background-color: #3B4455;\n",
              "      fill: #D2E3FC;\n",
              "    }\n",
              "\n",
              "    [theme=dark] .colab-df-convert:hover {\n",
              "      background-color: #434B5C;\n",
              "      box-shadow: 0px 1px 3px 1px rgba(0, 0, 0, 0.15);\n",
              "      filter: drop-shadow(0px 1px 2px rgba(0, 0, 0, 0.3));\n",
              "      fill: #FFFFFF;\n",
              "    }\n",
              "  </style>\n",
              "\n",
              "    <script>\n",
              "      const buttonEl =\n",
              "        document.querySelector('#df-35f53780-98c5-4923-9148-19f4417cf23f button.colab-df-convert');\n",
              "      buttonEl.style.display =\n",
              "        google.colab.kernel.accessAllowed ? 'block' : 'none';\n",
              "\n",
              "      async function convertToInteractive(key) {\n",
              "        const element = document.querySelector('#df-35f53780-98c5-4923-9148-19f4417cf23f');\n",
              "        const dataTable =\n",
              "          await google.colab.kernel.invokeFunction('convertToInteractive',\n",
              "                                                    [key], {});\n",
              "        if (!dataTable) return;\n",
              "\n",
              "        const docLinkHtml = 'Like what you see? Visit the ' +\n",
              "          '<a target=\"_blank\" href=https://colab.research.google.com/notebooks/data_table.ipynb>data table notebook</a>'\n",
              "          + ' to learn more about interactive tables.';\n",
              "        element.innerHTML = '';\n",
              "        dataTable['output_type'] = 'display_data';\n",
              "        await google.colab.output.renderOutput(dataTable, element);\n",
              "        const docLink = document.createElement('div');\n",
              "        docLink.innerHTML = docLinkHtml;\n",
              "        element.appendChild(docLink);\n",
              "      }\n",
              "    </script>\n",
              "  </div>\n",
              "\n",
              "\n",
              "<div id=\"df-09ba5103-6622-4fc4-9a7c-5f3c0d3cdb61\">\n",
              "  <button class=\"colab-df-quickchart\" onclick=\"quickchart('df-09ba5103-6622-4fc4-9a7c-5f3c0d3cdb61')\"\n",
              "            title=\"Suggest charts\"\n",
              "            style=\"display:none;\">\n",
              "\n",
              "<svg xmlns=\"http://www.w3.org/2000/svg\" height=\"24px\"viewBox=\"0 0 24 24\"\n",
              "     width=\"24px\">\n",
              "    <g>\n",
              "        <path d=\"M19 3H5c-1.1 0-2 .9-2 2v14c0 1.1.9 2 2 2h14c1.1 0 2-.9 2-2V5c0-1.1-.9-2-2-2zM9 17H7v-7h2v7zm4 0h-2V7h2v10zm4 0h-2v-4h2v4z\"/>\n",
              "    </g>\n",
              "</svg>\n",
              "  </button>\n",
              "\n",
              "<style>\n",
              "  .colab-df-quickchart {\n",
              "      --bg-color: #E8F0FE;\n",
              "      --fill-color: #1967D2;\n",
              "      --hover-bg-color: #E2EBFA;\n",
              "      --hover-fill-color: #174EA6;\n",
              "      --disabled-fill-color: #AAA;\n",
              "      --disabled-bg-color: #DDD;\n",
              "  }\n",
              "\n",
              "  [theme=dark] .colab-df-quickchart {\n",
              "      --bg-color: #3B4455;\n",
              "      --fill-color: #D2E3FC;\n",
              "      --hover-bg-color: #434B5C;\n",
              "      --hover-fill-color: #FFFFFF;\n",
              "      --disabled-bg-color: #3B4455;\n",
              "      --disabled-fill-color: #666;\n",
              "  }\n",
              "\n",
              "  .colab-df-quickchart {\n",
              "    background-color: var(--bg-color);\n",
              "    border: none;\n",
              "    border-radius: 50%;\n",
              "    cursor: pointer;\n",
              "    display: none;\n",
              "    fill: var(--fill-color);\n",
              "    height: 32px;\n",
              "    padding: 0;\n",
              "    width: 32px;\n",
              "  }\n",
              "\n",
              "  .colab-df-quickchart:hover {\n",
              "    background-color: var(--hover-bg-color);\n",
              "    box-shadow: 0 1px 2px rgba(60, 64, 67, 0.3), 0 1px 3px 1px rgba(60, 64, 67, 0.15);\n",
              "    fill: var(--button-hover-fill-color);\n",
              "  }\n",
              "\n",
              "  .colab-df-quickchart-complete:disabled,\n",
              "  .colab-df-quickchart-complete:disabled:hover {\n",
              "    background-color: var(--disabled-bg-color);\n",
              "    fill: var(--disabled-fill-color);\n",
              "    box-shadow: none;\n",
              "  }\n",
              "\n",
              "  .colab-df-spinner {\n",
              "    border: 2px solid var(--fill-color);\n",
              "    border-color: transparent;\n",
              "    border-bottom-color: var(--fill-color);\n",
              "    animation:\n",
              "      spin 1s steps(1) infinite;\n",
              "  }\n",
              "\n",
              "  @keyframes spin {\n",
              "    0% {\n",
              "      border-color: transparent;\n",
              "      border-bottom-color: var(--fill-color);\n",
              "      border-left-color: var(--fill-color);\n",
              "    }\n",
              "    20% {\n",
              "      border-color: transparent;\n",
              "      border-left-color: var(--fill-color);\n",
              "      border-top-color: var(--fill-color);\n",
              "    }\n",
              "    30% {\n",
              "      border-color: transparent;\n",
              "      border-left-color: var(--fill-color);\n",
              "      border-top-color: var(--fill-color);\n",
              "      border-right-color: var(--fill-color);\n",
              "    }\n",
              "    40% {\n",
              "      border-color: transparent;\n",
              "      border-right-color: var(--fill-color);\n",
              "      border-top-color: var(--fill-color);\n",
              "    }\n",
              "    60% {\n",
              "      border-color: transparent;\n",
              "      border-right-color: var(--fill-color);\n",
              "    }\n",
              "    80% {\n",
              "      border-color: transparent;\n",
              "      border-right-color: var(--fill-color);\n",
              "      border-bottom-color: var(--fill-color);\n",
              "    }\n",
              "    90% {\n",
              "      border-color: transparent;\n",
              "      border-bottom-color: var(--fill-color);\n",
              "    }\n",
              "  }\n",
              "</style>\n",
              "\n",
              "  <script>\n",
              "    async function quickchart(key) {\n",
              "      const quickchartButtonEl =\n",
              "        document.querySelector('#' + key + ' button');\n",
              "      quickchartButtonEl.disabled = true;  // To prevent multiple clicks.\n",
              "      quickchartButtonEl.classList.add('colab-df-spinner');\n",
              "      try {\n",
              "        const charts = await google.colab.kernel.invokeFunction(\n",
              "            'suggestCharts', [key], {});\n",
              "      } catch (error) {\n",
              "        console.error('Error during call to suggestCharts:', error);\n",
              "      }\n",
              "      quickchartButtonEl.classList.remove('colab-df-spinner');\n",
              "      quickchartButtonEl.classList.add('colab-df-quickchart-complete');\n",
              "    }\n",
              "    (() => {\n",
              "      let quickchartButtonEl =\n",
              "        document.querySelector('#df-09ba5103-6622-4fc4-9a7c-5f3c0d3cdb61 button');\n",
              "      quickchartButtonEl.style.display =\n",
              "        google.colab.kernel.accessAllowed ? 'block' : 'none';\n",
              "    })();\n",
              "  </script>\n",
              "</div>\n",
              "\n",
              "    </div>\n",
              "  </div>\n"
            ],
            "application/vnd.google.colaboratory.intrinsic+json": {
              "type": "dataframe",
              "variable_name": "daily",
              "summary": "{\n  \"name\": \"daily\",\n  \"rows\": 2010,\n  \"fields\": [\n    {\n      \"column\": \"debit\",\n      \"properties\": {\n        \"dtype\": \"number\",\n        \"std\": 228.53411824761864,\n        \"min\": 0.0,\n        \"max\": 1412.0,\n        \"num_unique_values\": 1326,\n        \"samples\": [\n          2.99600005149841,\n          1.78299999237061,\n          3.25399994850159\n        ],\n        \"semantic_type\": \"\",\n        \"description\": \"\"\n      }\n    },\n    {\n      \"column\": \"pluie\",\n      \"properties\": {\n        \"dtype\": \"number\",\n        \"std\": 5.722958989757376,\n        \"min\": 0.0,\n        \"max\": 48.4577,\n        \"num_unique_values\": 1093,\n        \"samples\": [\n          9.9028,\n          1.0512,\n          4.6045\n        ],\n        \"semantic_type\": \"\",\n        \"description\": \"\"\n      }\n    },\n    {\n      \"column\": \"etp\",\n      \"properties\": {\n        \"dtype\": \"number\",\n        \"std\": 0.7738360107742072,\n        \"min\": 1.8845366188325,\n        \"max\": 5.60924153961241,\n        \"num_unique_values\": 2010,\n        \"samples\": [\n          3.95170226413757,\n          3.60621296521276,\n          2.86154268030077\n        ],\n        \"semantic_type\": \"\",\n        \"description\": \"\"\n      }\n    },\n    {\n      \"column\": \"Unnamed: 3\",\n      \"properties\": {\n        \"dtype\": \"number\",\n        \"std\": null,\n        \"min\": null,\n        \"max\": null,\n        \"num_unique_values\": 0,\n        \"samples\": [],\n        \"semantic_type\": \"\",\n        \"description\": \"\"\n      }\n    },\n    {\n      \"column\": \"Unnamed: 4\",\n      \"properties\": {\n        \"dtype\": \"category\",\n        \"num_unique_values\": 1,\n        \"samples\": [],\n        \"semantic_type\": \"\",\n        \"description\": \"\"\n      }\n    },\n    {\n      \"column\": \"Unnamed: 5\",\n      \"properties\": {\n        \"dtype\": \"number\",\n        \"std\": null,\n        \"min\": null,\n        \"max\": null,\n        \"num_unique_values\": 0,\n        \"samples\": [],\n        \"semantic_type\": \"\",\n        \"description\": \"\"\n      }\n    },\n    {\n      \"column\": \"Unnamed: 6\",\n      \"properties\": {\n        \"dtype\": \"number\",\n        \"std\": null,\n        \"min\": 65.5224,\n        \"max\": 65.5224,\n        \"num_unique_values\": 1,\n        \"samples\": [],\n        \"semantic_type\": \"\",\n        \"description\": \"\"\n      }\n    }\n  ]\n}"
            }
          },
          "metadata": {},
          "execution_count": 865
        }
      ]
    },
    {
      "cell_type": "markdown",
      "source": [
        "# HyMoLAP Model"
      ],
      "metadata": {
        "id": "f55FRLUpl2Cp"
      }
    },
    {
      "cell_type": "code",
      "source": [
        "#Calibration data\n",
        "discharge = daily.iloc[:1280, 0].to_numpy()\n",
        "prec = daily.iloc[:1280, 1].to_numpy()\n",
        "pet = daily.iloc[:1280, 2].to_numpy()"
      ],
      "metadata": {
        "id": "Sy9OIp3QuRGh"
      },
      "execution_count": 866,
      "outputs": []
    },
    {
      "cell_type": "code",
      "source": [
        "#X(t)\n",
        "def state_basin(MU, LANDA, q):\n",
        "    n = len(q)\n",
        "    X = np.zeros(n)\n",
        "    X[0] = q[0]\n",
        "    for i in range(1, n):\n",
        "        if q[i] == 0:\n",
        "            X[i] = X[i - 1] - (MU / LANDA) * X[i - 1]\n",
        "        else:\n",
        "            X[i] = X[i - 1] + (MU / LANDA) * q[i]\n",
        "    return X"
      ],
      "metadata": {
        "id": "mrFx_MaDg22f"
      },
      "execution_count": 867,
      "outputs": []
    },
    {
      "cell_type": "code",
      "execution_count": 868,
      "metadata": {
        "id": "nVeqJA4W0rJu"
      },
      "outputs": [],
      "source": [
        "#Estimates of the HyMoLAP\n",
        "MU = 0.8887674235815656\n",
        "LAMBDA = 3.995390518490918"
      ]
    },
    {
      "cell_type": "markdown",
      "metadata": {
        "id": "RG-6iHtX8gmS"
      },
      "source": [
        "Multi-step prediction"
      ]
    },
    {
      "cell_type": "markdown",
      "source": [
        "VALIDATION"
      ],
      "metadata": {
        "id": "JwgFap4q_71g"
      }
    },
    {
      "cell_type": "code",
      "execution_count": 869,
      "metadata": {
        "id": "Z86l-yf-5MPt"
      },
      "outputs": [],
      "source": [
        "# Validation data\n",
        "discharge1 = daily.iloc[1280:, 0].to_numpy()\n",
        "prec1 = daily.iloc[1280:, 1].to_numpy()\n",
        "pet1 = daily.iloc[1280:, 2].to_numpy()\n",
        "\n",
        "#Compute the Effective precipitation\n",
        "prec_eff1 = prec1 - pet1\n",
        "prec_eff1[prec_eff1 < 0] = 0\n",
        "\n",
        "#X(t)\n",
        "X = state_basin(MU, LAMBDA, prec_eff1)"
      ]
    },
    {
      "cell_type": "markdown",
      "source": [
        "1-day ahead"
      ],
      "metadata": {
        "id": "XYURSJpU_-fh"
      }
    },
    {
      "cell_type": "code",
      "source": [
        "#Simulation\n",
        "def compute_Q(Q_t, psi_t, mu, lambda_):\n",
        "    Q_next = Q_t +  (- (mu / lambda_) * Q_t**(2 * mu - 1) + (1 / lambda_) * psi_t)\n",
        "\n",
        "    return Q_next\n",
        "\n",
        "S711 = np.zeros(len(discharge1)) #Vector for stocking the prediction\n",
        "S711[0] = discharge1[0]\n",
        "\n",
        "for k in range(0, len(discharge1)-1, 1):\n",
        "    S711[k + 1] = compute_Q(discharge1[k], X[k] * prec_eff1[k], MU, LAMBDA)\n"
      ],
      "metadata": {
        "id": "DZR9lJ4mwCUY"
      },
      "execution_count": 870,
      "outputs": []
    },
    {
      "cell_type": "code",
      "source": [
        "#Performance\n",
        "nse_value = nash_sutcliffe_efficiency(discharge1[1:], S711[1:])\n",
        "print(\"Nash-Sutcliffe Efficiency (NSE):\", nse_value)\n",
        "\n",
        "print('rmse=',calculate_rmse(discharge1[1:], S711[1:]))\n",
        "\n",
        "print('kge=',kge(discharge1[1:], S711[1:]))\n"
      ],
      "metadata": {
        "colab": {
          "base_uri": "https://localhost:8080/"
        },
        "id": "huh_oQbFwHI_",
        "outputId": "2cfc833c-aaa2-4852-e696-c5389b1ca700"
      },
      "execution_count": 871,
      "outputs": [
        {
          "output_type": "stream",
          "name": "stdout",
          "text": [
            "Nash-Sutcliffe Efficiency (NSE): 0.9696001265526427\n",
            "rmse= 37.14012906105239\n",
            "kge= 0.9810334953357324\n"
          ]
        }
      ]
    },
    {
      "cell_type": "code",
      "source": [
        "# Create a date range from '01-01-2000' to '12-31-2005'\n",
        "time1 = np.datetime64('2006-01-02')\n",
        "time2 = np.datetime64('2007-12-31')\n",
        "time = np.arange(time1, time2 + np.timedelta64(1, 'D'), dtype='datetime64[D]')\n",
        "\n",
        "# Create a figure and axes with a reduced figure size\n",
        "fig, ax1 = plt.subplots(figsize=(6.5, 3.))\n",
        "\n",
        "# Plot a histogram for precipitation on ax1\n",
        "ax1.bar(time, prec1[1:], color='black')\n",
        "\n",
        "# Format x-axis labels\n",
        "ax1.xaxis.set_major_formatter(plt.matplotlib.dates.DateFormatter('%Y-%m'))\n",
        "plt.xticks(rotation=45)\n",
        "\n",
        "ax1.set_xlabel('Date t [days]')\n",
        "\n",
        "# Set y-axis parameters for precipitation\n",
        "ax1.set_ylabel('Precipitation [mm]', color='black')\n",
        "ax1.tick_params(axis='y', labelcolor='black')\n",
        "ax1.set_ylim(0, 100)\n",
        "ax1.set_yticks(np.arange(0, 101, 20))\n",
        "\n",
        "# Invert y-axis and place ticks on the left for precipitation\n",
        "ax1.invert_yaxis()\n",
        "ax1.yaxis.set_label_position(\"left\")\n",
        "\n",
        "# Create a second y-axis to plot discharge\n",
        "ax2 = ax1.twinx()\n",
        "ax2.plot(time, discharge1[1:], 'b--', label='Qobs')\n",
        "\n",
        "# Plot minimum, maximum, and mean values as a confidence region\n",
        "# ax2.fill_between(time, min_trajectory, max_trajectory, color='gray', alpha=0.3, label='99% CrI')\n",
        "\n",
        "# Plot the prediction\n",
        "ax2.plot(time, S711[1:], 'red', label='Qsim')\n",
        "\n",
        "# Set y-axis parameters for daily discharge\n",
        "ax2.set_ylabel('Discharge Q [m³/s]', color='blue')\n",
        "ax2.tick_params(axis='y', labelcolor='blue')\n",
        "ax2.set_ylim(-150, 3000)\n",
        "ax2.set_yticks(np.arange(0, 3000, 500))\n",
        "\n",
        "# Add a legend inside the plot\n",
        "fig.legend(loc='upper left', bbox_to_anchor=(0.15, 0.75))\n",
        "\n",
        "# Display grid\n",
        "# plt.grid(True)\n",
        "\n",
        "# Add a title with LaTeX symbols\n",
        "plt.title(r'$1$-$day$ $lead$ $time$')\n",
        "\n",
        "# Use tight_layout to prevent overlaps\n",
        "plt.tight_layout()\n",
        "\n",
        "# Show the plot\n",
        "plt.show()\n"
      ],
      "metadata": {
        "colab": {
          "base_uri": "https://localhost:8080/",
          "height": 307
        },
        "id": "oRfTPFAHwTgZ",
        "outputId": "f6aea237-fab7-4a9c-c9f0-f329c736cbe5"
      },
      "execution_count": 872,
      "outputs": [
        {
          "output_type": "display_data",
          "data": {
            "text/plain": [
              "<Figure size 650x300 with 2 Axes>"
            ],
            "image/png": "[encoded data removed]"
          },
          "metadata": {}
        }
      ]
    },
    {
      "cell_type": "markdown",
      "source": [
        "3-day ahead"
      ],
      "metadata": {
        "id": "yU6FTnBYwU9n"
      }
    },
    {
      "cell_type": "code",
      "source": [
        "#Simulation\n",
        "def compute_Q(Q_t, psi_t, mu, lambda_):\n",
        "    Q_values = []\n",
        "    for i in range(1, 4):\n",
        "      if i==1:\n",
        "        Q_next = Q_t +  (- (mu / lambda_) * Q_t**(2 * mu - 1) + (1 / lambda_) * psi_t)\n",
        "        Q_values.append(Q_next)\n",
        "        Q_prec = Q_t\n",
        "        Q_t = Q_next\n",
        "      else:\n",
        "        Q_next = 2*Q_t-Q_prec\n",
        "        Q_values.append(Q_next)\n",
        "        Q_prec = Q_t\n",
        "        Q_t = Q_next\n",
        "\n",
        "    return tuple(Q_values)\n",
        "\n",
        "S713 = np.zeros(len(discharge1))\n",
        "S713[0] = discharge1[0]\n",
        "\n",
        "for k in range(0, len(discharge1)-2, 3):  #loup\n",
        "    (S713[k+1], S713[k+2], S713[k+3]) = \\\n",
        "        compute_Q(discharge1[k], X[k]*prec_eff1[k], MU, LAMBDA)\n"
      ],
      "metadata": {
        "id": "GePKqKx2wYvD"
      },
      "execution_count": 873,
      "outputs": []
    },
    {
      "cell_type": "code",
      "source": [
        "#We check here the last value reached by the loup\n",
        "S713[-2]==0, S713[-1]==0"
      ],
      "metadata": {
        "colab": {
          "base_uri": "https://localhost:8080/"
        },
        "id": "ZLvS43ofw7_C",
        "outputId": "c88d6b84-aea9-4673-ddc1-84d72526d342"
      },
      "execution_count": 874,
      "outputs": [
        {
          "output_type": "execute_result",
          "data": {
            "text/plain": [
              "(False, False)"
            ]
          },
          "metadata": {},
          "execution_count": 874
        }
      ]
    },
    {
      "cell_type": "code",
      "source": [
        "#We compute  streamflow for last days that were not considered in the loup\n",
        "psi = X[-2]*prec_eff1[-2]\n",
        "S713[-1] = discharge1[-2] +  (- (MU / LAMBDA) * discharge1[-2]**(2 * MU - 1) + (1 / LAMBDA) * psi)"
      ],
      "metadata": {
        "id": "Vu6zRIyUxM68"
      },
      "execution_count": 875,
      "outputs": []
    },
    {
      "cell_type": "code",
      "source": [
        "#Performance\n",
        "nse_value = nash_sutcliffe_efficiency(discharge1[1:], S713[1:])\n",
        "print(\"Nash-Sutcliffe Efficiency (NSE):\", nse_value)\n",
        "\n",
        "print('rmse=',calculate_rmse(discharge1[1:], S713[1:]))\n",
        "\n",
        "print('kge=',kge(discharge1[1:], S713[1:]))\n"
      ],
      "metadata": {
        "colab": {
          "base_uri": "https://localhost:8080/"
        },
        "id": "Q8ku9sSmxpVa",
        "outputId": "b4ec5b17-10c2-4e19-8396-85fede22eb72"
      },
      "execution_count": 876,
      "outputs": [
        {
          "output_type": "stream",
          "name": "stdout",
          "text": [
            "Nash-Sutcliffe Efficiency (NSE): 0.917163817462678\n",
            "rmse= 61.308057910271756\n",
            "kge= 0.9533491237205826\n"
          ]
        }
      ]
    },
    {
      "cell_type": "code",
      "source": [
        "# Create a date range from '01-01-2000' to '12-31-2005'\n",
        "time1 = np.datetime64('2006-01-02')\n",
        "time2 = np.datetime64('2007-12-31')\n",
        "time = np.arange(time1, time2 + np.timedelta64(1, 'D'), dtype='datetime64[D]')\n",
        "\n",
        "# Create a figure and axes with a reduced figure size\n",
        "fig, ax1 = plt.subplots(figsize=(6.5, 3.))\n",
        "\n",
        "# Plot a histogram for precipitation on ax1\n",
        "ax1.bar(time, prec1[1:], color='black')\n",
        "\n",
        "# Format x-axis labels\n",
        "ax1.xaxis.set_major_formatter(plt.matplotlib.dates.DateFormatter('%Y-%m'))\n",
        "plt.xticks(rotation=45)\n",
        "\n",
        "ax1.set_xlabel('Date t [days]')\n",
        "\n",
        "# Set y-axis parameters for precipitation\n",
        "ax1.set_ylabel('Precipitation [mm]', color='black')\n",
        "ax1.tick_params(axis='y', labelcolor='black')\n",
        "ax1.set_ylim(0, 100)\n",
        "ax1.set_yticks(np.arange(0, 101, 20))\n",
        "\n",
        "# Invert y-axis and place ticks on the left for precipitation\n",
        "ax1.invert_yaxis()\n",
        "ax1.yaxis.set_label_position(\"left\")\n",
        "\n",
        "# Create a second y-axis to plot discharge\n",
        "ax2 = ax1.twinx()\n",
        "ax2.plot(time, discharge1[1:], 'b--', label='Qobs')\n",
        "\n",
        "# Plot minimum, maximum, and mean values as a confidence region\n",
        "# ax2.fill_between(time, min_trajectory, max_trajectory, color='gray', alpha=0.3, label='99% CrI')\n",
        "\n",
        "# Plot the prediction\n",
        "ax2.plot(time, S713[1:], 'red', label='Qsim')\n",
        "\n",
        "# Set y-axis parameters for daily discharge\n",
        "ax2.set_ylabel('Discharge Q [m³/s]', color='blue')\n",
        "ax2.tick_params(axis='y', labelcolor='blue')\n",
        "ax2.set_ylim(-150, 3000)\n",
        "ax2.set_yticks(np.arange(0, 3000, 500))\n",
        "\n",
        "# Add a legend inside the plot\n",
        "fig.legend(loc='upper left', bbox_to_anchor=(0.15, 0.75))\n",
        "\n",
        "# Display grid\n",
        "# plt.grid(True)\n",
        "\n",
        "# Add a title with LaTeX symbols\n",
        "plt.title(r'$3$-$day$ $lead$ $time$')\n",
        "\n",
        "# Use tight_layout to prevent overlaps\n",
        "plt.tight_layout()\n",
        "\n",
        "# Show the plot\n",
        "plt.show()"
      ],
      "metadata": {
        "colab": {
          "base_uri": "https://localhost:8080/",
          "height": 307
        },
        "id": "SLcwqn_vxvY5",
        "outputId": "b3f272e5-4740-4949-f8f5-a227ad6b8fac"
      },
      "execution_count": 877,
      "outputs": [
        {
          "output_type": "display_data",
          "data": {
            "text/plain": [
              "<Figure size 650x300 with 2 Axes>"
            ],
            "image/png": "[encoded data removed]"
          },
          "metadata": {}
        }
      ]
    },
    {
      "cell_type": "markdown",
      "source": [
        "7-day ahead"
      ],
      "metadata": {
        "id": "owKTlHppxyZ3"
      }
    },
    {
      "cell_type": "code",
      "source": [
        "#Simulation\n",
        "def compute_Q(Q_t, psi_t, mu, lambda_):\n",
        "    Q_values = []\n",
        "    for i in range(1, 8):\n",
        "      if i==1:\n",
        "        Q_next = Q_t +  (- (mu / lambda_) * Q_t**(2 * mu - 1) + (1 / lambda_) * psi_t)\n",
        "        Q_values.append(Q_next)\n",
        "        Q_prec = Q_t\n",
        "        Q_t = Q_next\n",
        "      else:\n",
        "        Q_next = 2*Q_t-Q_prec\n",
        "        Q_values.append(Q_next)\n",
        "        Q_prec = Q_t\n",
        "        Q_t = Q_next\n",
        "\n",
        "    return tuple(Q_values)\n",
        "\n",
        "S717 = np.zeros(len(discharge1))\n",
        "S717[0] = discharge1[0]\n",
        "\n",
        "for k in range(0, len(discharge1)-6, 7):\n",
        "    (S717[k+1], S717[k+2], S717[k+3], S717[k+4], S717[k+5], S717[k+6], S717[k+7]) = \\\n",
        "        compute_Q(discharge1[k], X[k]*prec_eff1[k], MU, LAMBDA)\n"
      ],
      "metadata": {
        "id": "ug_496Max0kq"
      },
      "execution_count": 878,
      "outputs": []
    },
    {
      "cell_type": "code",
      "source": [
        "S717[-2]==0, S717[-1]==0"
      ],
      "metadata": {
        "colab": {
          "base_uri": "https://localhost:8080/"
        },
        "id": "uuIl01vByP3A",
        "outputId": "ae91c21f-fa01-4061-c7a5-51a1b68d4985"
      },
      "execution_count": 879,
      "outputs": [
        {
          "output_type": "execute_result",
          "data": {
            "text/plain": [
              "(False, True)"
            ]
          },
          "metadata": {},
          "execution_count": 879
        }
      ]
    },
    {
      "cell_type": "code",
      "source": [
        "psi = X[-2]*prec_eff1[-2]\n",
        "S717[-1] = discharge1[-2] +  (- (MU / LAMBDA) * discharge1[-2]**(2 * MU - 1) + (1 / LAMBDA) * psi)"
      ],
      "metadata": {
        "id": "sSVzhwSQyRrr"
      },
      "execution_count": 880,
      "outputs": []
    },
    {
      "cell_type": "code",
      "source": [
        "nse_value = nash_sutcliffe_efficiency(discharge1[1:], S717[1:])\n",
        "print(\"Nash-Sutcliffe Efficiency (NSE):\", nse_value)\n",
        "\n",
        "print('rmse=',calculate_rmse(discharge1[1:], S717[1:]))\n",
        "\n",
        "print('kge=',kge(discharge1[1:], S717[1:]))"
      ],
      "metadata": {
        "colab": {
          "base_uri": "https://localhost:8080/"
        },
        "id": "3HKB-qm2ySTi",
        "outputId": "b740fa59-c1bd-4eb5-9805-0fadcfa33a3d"
      },
      "execution_count": 881,
      "outputs": [
        {
          "output_type": "stream",
          "name": "stdout",
          "text": [
            "Nash-Sutcliffe Efficiency (NSE): 0.7985413335896814\n",
            "rmse= 95.60937915838902\n",
            "kge= 0.9001326905564819\n"
          ]
        }
      ]
    },
    {
      "cell_type": "code",
      "source": [
        "# Create a date range from '01-01-2000' to '12-31-2005'\n",
        "time1 = np.datetime64('2006-01-02')\n",
        "time2 = np.datetime64('2007-12-31')\n",
        "time = np.arange(time1, time2 + np.timedelta64(1, 'D'), dtype='datetime64[D]')\n",
        "\n",
        "# Create a figure and axes with a reduced figure size\n",
        "fig, ax1 = plt.subplots(figsize=(6.5, 3.))\n",
        "\n",
        "# Plot a histogram for precipitation on ax1\n",
        "ax1.bar(time, prec1[1:], color='black')\n",
        "\n",
        "# Format x-axis labels\n",
        "ax1.xaxis.set_major_formatter(plt.matplotlib.dates.DateFormatter('%Y-%m'))\n",
        "plt.xticks(rotation=45)\n",
        "\n",
        "ax1.set_xlabel('Date t [days]')\n",
        "\n",
        "# Y-axis settings for precipitation\n",
        "ax1.set_ylabel('Precipitation [mm]', color='black')\n",
        "ax1.tick_params(axis='y', labelcolor='black')\n",
        "ax1.set_ylim(0, 100)\n",
        "ax1.set_yticks(np.arange(0, 101, 20))\n",
        "\n",
        "# Invert y-axis and place ticks on the left for precipitation\n",
        "ax1.invert_yaxis()\n",
        "ax1.yaxis.set_label_position(\"left\")\n",
        "\n",
        "# Create a second y-axis to plot discharge\n",
        "ax2 = ax1.twinx()\n",
        "ax2.plot(time, discharge1[1:], 'b--', label='Qobs')\n",
        "\n",
        "# Plot minimum, maximum, and mean values as a confidence region\n",
        "# ax2.fill_between(time, min_trajectory, max_trajectory, color='gray', alpha=0.3, label='99% CrI')\n",
        "\n",
        "# Plot the prediction\n",
        "ax2.plot(time, S717[1:], 'red', label='Qsim')\n",
        "\n",
        "# Y-axis settings for daily discharge\n",
        "ax2.set_ylabel('Discharge Q [m³/s]', color='blue')\n",
        "ax2.tick_params(axis='y', labelcolor='blue')\n",
        "ax2.set_ylim(-150, 3000)\n",
        "ax2.set_yticks(np.arange(0, 3000, 500))\n",
        "\n",
        "# Add a legend inside the plot\n",
        "fig.legend(loc='upper left', bbox_to_anchor=(0.15, 0.75))\n",
        "\n",
        "# Display the grid\n",
        "# plt.grid(True)\n",
        "\n",
        "# Add a title with LaTeX mathematical symbols\n",
        "plt.title(r'$7$-$day$ $lead$ $time$')\n",
        "\n",
        "# Use tight_layout to prevent overlapping\n",
        "plt.tight_layout()\n",
        "\n",
        "# Display the plot\n",
        "plt.show()"
      ],
      "metadata": {
        "colab": {
          "base_uri": "https://localhost:8080/",
          "height": 307
        },
        "id": "VWURFczdyaq8",
        "outputId": "890f0924-3ae8-41ad-91c8-f80a0e131e22"
      },
      "execution_count": 882,
      "outputs": [
        {
          "output_type": "display_data",
          "data": {
            "text/plain": [
              "<Figure size 650x300 with 2 Axes>"
            ],
            "image/png": "[encoded data removed]"
          },
          "metadata": {}
        }
      ]
    },
    {
      "cell_type": "markdown",
      "source": [
        "10-day ahead"
      ],
      "metadata": {
        "id": "XKujTrh0wWqv"
      }
    },
    {
      "cell_type": "code",
      "execution_count": 883,
      "metadata": {
        "id": "RujE2uxz5jKo"
      },
      "outputs": [],
      "source": [
        "#Simulation\n",
        "def compute_Q(Q_t, psi_t, mu, lambda_):\n",
        "    Q_values = []\n",
        "    for i in range(1, 11):\n",
        "      if i==1:\n",
        "        Q_next = Q_t +  (- (mu / lambda_) * Q_t**(2 * mu - 1) + (1 / lambda_) * psi_t)\n",
        "        Q_values.append(Q_next)\n",
        "        Q_prec = Q_t\n",
        "        Q_t = Q_next\n",
        "      else:\n",
        "        Q_next = 2*Q_t-Q_prec\n",
        "        Q_values.append(Q_next)\n",
        "        Q_prec = Q_t\n",
        "        Q_t = Q_next\n",
        "\n",
        "    return tuple(Q_values)\n",
        "\n",
        "S7110 = np.zeros(len(discharge1))\n",
        "S7110[0] = discharge1[0]\n",
        "\n",
        "for k in range(0, len(discharge1)-10, 10):\n",
        "    (S7110[k+1], S7110[k+2], S7110[k+3], S7110[k+4], S7110[k+5], S7110[k+6], S7110[k+7],\n",
        "     S7110[k+8], S7110[k+9], S7110[k+10]) = \\\n",
        "        compute_Q(discharge1[k], X[k]*prec_eff1[k], MU, LAMBDA)\n"
      ]
    },
    {
      "cell_type": "code",
      "execution_count": 884,
      "metadata": {
        "colab": {
          "base_uri": "https://localhost:8080/"
        },
        "id": "rGJH3qea5nee",
        "outputId": "97c0fb60-9a9a-4f62-e051-3cbafbbe80d3"
      },
      "outputs": [
        {
          "output_type": "execute_result",
          "data": {
            "text/plain": [
              "(False, True)"
            ]
          },
          "metadata": {},
          "execution_count": 884
        }
      ],
      "source": [
        "S7110[-10]==0, S7110[-9]==0"
      ]
    },
    {
      "cell_type": "code",
      "source": [
        "psi = X[-10]*prec_eff1[-10]\n",
        "S7110[-9] = discharge1[-10] +  (- (MU / LAMBDA) * discharge1[-10]**(2 * MU - 1) + (1 / LAMBDA) * psi)\n",
        "\n",
        "for i in range(-8, 0):\n",
        "    S7110[i] = 2 * S7110[i - 1] - S7110[i - 2]"
      ],
      "metadata": {
        "id": "CjHhFomd7anu"
      },
      "execution_count": 885,
      "outputs": []
    },
    {
      "cell_type": "code",
      "execution_count": 887,
      "metadata": {
        "colab": {
          "base_uri": "https://localhost:8080/"
        },
        "id": "MGkE6a5N5p7t",
        "outputId": "5dd4f7ac-2388-4175-fc1c-dd3990f22d46"
      },
      "outputs": [
        {
          "output_type": "stream",
          "name": "stdout",
          "text": [
            "Nash-Sutcliffe Efficiency (NSE): 0.8197487848265438\n",
            "rmse= 90.4370986973511\n",
            "kge= 0.8241133707023724\n"
          ]
        }
      ],
      "source": [
        "nse_value = nash_sutcliffe_efficiency(discharge1[1:], S7110[1:])\n",
        "print(\"Nash-Sutcliffe Efficiency (NSE):\", nse_value)\n",
        "\n",
        "print('rmse=',calculate_rmse(discharge1[1:], S7110[1:]))\n",
        "\n",
        "print('kge=',kge(discharge1[1:], S7110[1:]))\n"
      ]
    },
    {
      "cell_type": "code",
      "execution_count": 888,
      "metadata": {
        "colab": {
          "base_uri": "https://localhost:8080/",
          "height": 307
        },
        "id": "R-ml7U615teQ",
        "outputId": "11a1bff6-34da-49b1-839a-93f1cf9961bc"
      },
      "outputs": [
        {
          "output_type": "display_data",
          "data": {
            "text/plain": [
              "<Figure size 650x300 with 2 Axes>"
            ],
            "image/png": "[encoded data removed]"
          },
          "metadata": {}
        }
      ],
      "source": [
        "# Create a date range from '01-01-2000' to '12-31-2005'\n",
        "time1 = np.datetime64('2006-01-02')\n",
        "time2 = np.datetime64('2007-12-31')\n",
        "time = np.arange(time1, time2 + np.timedelta64(1, 'D'), dtype='datetime64[D]')\n",
        "\n",
        "# Create a figure and axes with a reduced figure size\n",
        "fig, ax1 = plt.subplots(figsize=(6.5, 3.))\n",
        "\n",
        "# Plot a histogram for precipitation on ax1\n",
        "ax1.bar(time, prec1[1:], color='black')\n",
        "\n",
        "# Format x-axis labels\n",
        "ax1.xaxis.set_major_formatter(plt.matplotlib.dates.DateFormatter('%Y-%m'))\n",
        "plt.xticks(rotation=45)\n",
        "\n",
        "ax1.set_xlabel('Date t [days]')\n",
        "\n",
        "# Y-axis settings for precipitation\n",
        "ax1.set_ylabel('Precipitation [mm]', color='black')\n",
        "ax1.tick_params(axis='y', labelcolor='black')\n",
        "ax1.set_ylim(0, 100)\n",
        "ax1.set_yticks(np.arange(0, 101, 20))\n",
        "\n",
        "# Invert y-axis and place ticks on the left for precipitation\n",
        "ax1.invert_yaxis()\n",
        "ax1.yaxis.set_label_position(\"left\")\n",
        "\n",
        "# Create a second y-axis to plot discharge\n",
        "ax2 = ax1.twinx()\n",
        "ax2.plot(time, discharge1[1:], 'b--', label='Qobs')\n",
        "\n",
        "# Plot minimum, maximum, and mean values as a confidence region\n",
        "# ax2.fill_between(time, min_trajectory, max_trajectory, color='gray', alpha=0.3, label='99% CrI')\n",
        "\n",
        "# Plot the prediction\n",
        "ax2.plot(time, S7110[1:], 'red', label='Qsim')\n",
        "\n",
        "# Y-axis settings for daily discharge\n",
        "ax2.set_ylabel('Discharge Q [m³/s]', color='blue')\n",
        "ax2.tick_params(axis='y', labelcolor='blue')\n",
        "ax2.set_ylim(-150, 3000)\n",
        "ax2.set_yticks(np.arange(0, 3000, 500))\n",
        "\n",
        "# Add a legend inside the plot\n",
        "fig.legend(loc='upper left', bbox_to_anchor=(0.15, 0.75))\n",
        "\n",
        "# Display the grid\n",
        "# plt.grid(True)\n",
        "\n",
        "# Add a title with LaTeX mathematical symbols\n",
        "plt.title(r'$10$-$day$ $lead$ $time$')\n",
        "\n",
        "# Use tight_layout to prevent overlapping\n",
        "plt.tight_layout()\n",
        "\n",
        "# Save the plot as a .jpeg file\n",
        "plt.savefig(\"10_hyM_save1.jpeg\", format='jpeg', dpi=500)\n",
        "\n",
        "# Download the file\n",
        "# files.download(\"10_hyM_save1.jpeg\")\n",
        "\n",
        "# Display the plot\n",
        "plt.show()"
      ]
    },
    {
      "cell_type": "markdown",
      "source": [
        "# .........................."
      ],
      "metadata": {
        "id": "8FIK2ROInTZc"
      }
    },
    {
      "cell_type": "markdown",
      "source": [
        "## LSTM Model"
      ],
      "metadata": {
        "id": "cQL0pK-kln9V"
      }
    },
    {
      "cell_type": "code",
      "source": [
        "# Define the LSTM model\n",
        "class LSTMModel(nn.Module):\n",
        "    def __init__(self, input_size=1, hidden_size=80, num_layers=2, output_size=1):\n",
        "        super(LSTMModel, self).__init__()\n",
        "        self.hidden_size = hidden_size\n",
        "        self.num_layers = num_layers\n",
        "\n",
        "        # LSTM layer\n",
        "        self.lstm = nn.LSTM(input_size, hidden_size, num_layers, batch_first=True)\n",
        "\n",
        "        # Fully connected layer\n",
        "        self.fc = nn.Linear(hidden_size, output_size)\n",
        "\n",
        "    def forward(self, x):\n",
        "        batch_size = x.size(0)\n",
        "\n",
        "        # Initialize hidden state and cell state\n",
        "        h_0 = torch.zeros(self.num_layers, batch_size, self.hidden_size).to(x.device)\n",
        "        c_0 = torch.zeros(self.num_layers, batch_size, self.hidden_size).to(x.device)\n",
        "\n",
        "        # Forward pass through LSTM\n",
        "        lstm_out, _ = self.lstm(x, (h_0, c_0))\n",
        "\n",
        "        # Output the last time step's prediction\n",
        "        out = self.fc(lstm_out[:, -1, :])\n",
        "        return out\n",
        "\n",
        "# Model parameters\n",
        "input_size = 1    # Number of input variables\n",
        "hidden_size = 105  # Number of hidden units\n",
        "num_layers = 2     # Number of LSTM layers\n",
        "output_size = 1    # Number of time steps to predict\n",
        "\n",
        "# Instantiate the model\n",
        "model = LSTMModel(input_size, hidden_size, num_layers, output_size)\n",
        "\n",
        "# Define loss function and optimizer\n",
        "criterion = nn.MSELoss()\n",
        "optimizer = optim.Adam(model.parameters(), lr=0.001)"
      ],
      "metadata": {
        "id": "XFUTwhWnmQN5"
      },
      "execution_count": 889,
      "outputs": []
    },
    {
      "cell_type": "markdown",
      "source": [
        "Creating dataset"
      ],
      "metadata": {
        "id": "E4SMLyKhndsj"
      }
    },
    {
      "cell_type": "code",
      "source": [
        "# Creating the DataFrame for training (calibration)\n",
        "data_train = pd.DataFrame({\n",
        "        'discharge': discharge[:-1],\n",
        "         #'prec': prec[:-1],\n",
        "         #'pet': pet[:-1],\n",
        "        'target': discharge[1:]\n",
        "})\n",
        "\n",
        "# Creating the DataFrame for validation (test)\n",
        "data_test = pd.DataFrame({\n",
        "        'discharge': discharge1[:-1],\n",
        "         #'prec': prec1[:-1],\n",
        "         #'pet': pet1[:-1],\n",
        "        'target': discharge1[1:]\n",
        "})\n",
        "\n",
        "# Splitting features and target\n",
        "train_X, train_y = data_train.iloc[:, :-1].to_numpy(dtype=np.float32), data_train.iloc[:, -1].to_numpy(dtype=np.float32)\n",
        "test_X, test_y = data_test.iloc[:, :-1].to_numpy(dtype=np.float32), data_test.iloc[:, -1].to_numpy(dtype=np.float32)\n",
        "\n",
        "# Normalizing features\n",
        "scaler_X = MinMaxScaler(feature_range=(0, 1))\n",
        "scaled_train_X = scaler_X.fit_transform(train_X)\n",
        "scaled_test_X = scaler_X.transform(test_X)  # Use transform() for test\n",
        "\n",
        "# Normalizing target\n",
        "scaler_y = MinMaxScaler(feature_range=(0, 1))\n",
        "scaled_train_y = scaler_y.fit_transform(train_y.reshape(-1, 1)).flatten()\n",
        "scaled_test_y = scaler_y.transform(test_y.reshape(-1, 1)).flatten()\n"
      ],
      "metadata": {
        "id": "j42oMtdsnWYU"
      },
      "execution_count": 890,
      "outputs": []
    },
    {
      "cell_type": "markdown",
      "source": [
        "Training"
      ],
      "metadata": {
        "id": "ywAn8jP3nh7a"
      }
    },
    {
      "cell_type": "code",
      "source": [
        "# Converting data to PyTorch tensors\n",
        "scaled_train_X = torch.tensor(scaled_train_X, dtype=torch.float32).unsqueeze(-1)  # (batch, seq_len, input_size)\n",
        "scaled_train_y = torch.tensor(scaled_train_y, dtype=torch.float32).unsqueeze(-1)  # (batch, output_size)\n",
        "\n",
        "# Training parameters\n",
        "epochs = 250\n",
        "\n",
        "# Training loop\n",
        "for epoch in range(epochs):\n",
        "    model.train()\n",
        "    optimizer.zero_grad()\n",
        "\n",
        "    # Prediction\n",
        "    y_pred = model(scaled_train_X)\n",
        "\n",
        "    # Loss computation (correcting y format)\n",
        "    loss = criterion(y_pred, scaled_train_y)\n",
        "\n",
        "    # Backpropagation\n",
        "    loss.backward()\n",
        "    optimizer.step()\n",
        "\n",
        "    # Display loss every 10 epochs\n",
        "    if epoch % 10 == 0:\n",
        "        print(f'Epoch {epoch}, Loss: {loss.item():.4f}')\n"
      ],
      "metadata": {
        "colab": {
          "base_uri": "https://localhost:8080/"
        },
        "id": "NwU9PXPJnY1V",
        "outputId": "8929565a-b7e2-4a33-914c-93f2c0385f20"
      },
      "execution_count": 891,
      "outputs": [
        {
          "output_type": "stream",
          "name": "stdout",
          "text": [
            "Epoch 0, Loss: 0.0305\n",
            "Epoch 10, Loss: 0.0274\n",
            "Epoch 20, Loss: 0.0262\n",
            "Epoch 30, Loss: 0.0245\n",
            "Epoch 40, Loss: 0.0213\n",
            "Epoch 50, Loss: 0.0158\n",
            "Epoch 60, Loss: 0.0080\n",
            "Epoch 70, Loss: 0.0017\n",
            "Epoch 80, Loss: 0.0019\n",
            "Epoch 90, Loss: 0.0013\n",
            "Epoch 100, Loss: 0.0013\n",
            "Epoch 110, Loss: 0.0012\n",
            "Epoch 120, Loss: 0.0012\n",
            "Epoch 130, Loss: 0.0012\n",
            "Epoch 140, Loss: 0.0012\n",
            "Epoch 150, Loss: 0.0012\n",
            "Epoch 160, Loss: 0.0012\n",
            "Epoch 170, Loss: 0.0012\n",
            "Epoch 180, Loss: 0.0012\n",
            "Epoch 190, Loss: 0.0012\n",
            "Epoch 200, Loss: 0.0012\n",
            "Epoch 210, Loss: 0.0012\n",
            "Epoch 220, Loss: 0.0012\n",
            "Epoch 230, Loss: 0.0012\n",
            "Epoch 240, Loss: 0.0012\n"
          ]
        }
      ]
    },
    {
      "cell_type": "markdown",
      "source": [
        "# Training Evaluation"
      ],
      "metadata": {
        "id": "pT_-nHFunuoa"
      }
    },
    {
      "cell_type": "code",
      "source": [
        "# Evaluation mode\n",
        "model.eval()"
      ],
      "metadata": {
        "colab": {
          "base_uri": "https://localhost:8080/"
        },
        "id": "qU02VnNUnj-6",
        "outputId": "dd8827ca-f896-4da8-8003-69b9c7fc75ef"
      },
      "execution_count": 892,
      "outputs": [
        {
          "output_type": "execute_result",
          "data": {
            "text/plain": [
              "LSTMModel(\n",
              "  (lstm): LSTM(1, 105, num_layers=2, batch_first=True)\n",
              "  (fc): Linear(in_features=105, out_features=1, bias=True)\n",
              ")"
            ]
          },
          "metadata": {},
          "execution_count": 892
        }
      ]
    },
    {
      "cell_type": "code",
      "source": [
        "# Store predictions\n",
        "predictions = []\n",
        "\n",
        "# Predict 1-day ahead\n",
        "for i in range(len(scaled_train_X)):\n",
        "    input_seq = scaled_train_X[i].reshape(1, 1, -1)  # Ensure (batch=1, seq_length=1, input_size)\n",
        "    input_seq = torch.tensor(input_seq, dtype=torch.float32)  # Convert to PyTorch tensor\n",
        "\n",
        "    pred = model(input_seq)  # Prediction\n",
        "    predictions.append(pred.item())  # Convert to scalar and store\n",
        "\n",
        "# print(\"Predictions:\", predictions)"
      ],
      "metadata": {
        "colab": {
          "base_uri": "https://localhost:8080/"
        },
        "id": "RzQ_StKanxYO",
        "outputId": "7630baff-ab38-4c0a-c9f0-972dc528747a"
      },
      "execution_count": 893,
      "outputs": [
        {
          "output_type": "stream",
          "name": "stderr",
          "text": [
            "<ipython-input-893-8af6e1ee080c>:7: UserWarning: To copy construct from a tensor, it is recommended to use sourceTensor.clone().detach() or sourceTensor.clone().detach().requires_grad_(True), rather than torch.tensor(sourceTensor).\n",
            "  input_seq = torch.tensor(input_seq, dtype=torch.float32)  # Convert to PyTorch tensor\n"
          ]
        }
      ]
    },
    {
      "cell_type": "code",
      "source": [
        "# Function to inverse transform the scaled target values back to their original scale\n",
        "def inverse_transform(y):\n",
        "  return scaler_y.inverse_transform(y.reshape(-1, 1))"
      ],
      "metadata": {
        "id": "ZHT3eb98rlj8"
      },
      "execution_count": 894,
      "outputs": []
    },
    {
      "cell_type": "code",
      "source": [
        "#Invert prevision\n",
        "predictions_array = np.array(predictions).reshape(-1, 1)\n",
        "original_predictions = scaler_y.inverse_transform(predictions_array).flatten()"
      ],
      "metadata": {
        "id": "oY5ROOPunzab"
      },
      "execution_count": 895,
      "outputs": []
    },
    {
      "cell_type": "code",
      "source": [
        "#Performance\n",
        "nse_value = nash_sutcliffe_efficiency(discharge[1:], original_predictions)\n",
        "print(\"Nash-Sutcliffe Efficiency (NSE):\", nse_value)\n",
        "\n",
        "print('rmse=',calculate_rmse(discharge[1:], original_predictions))\n",
        "\n",
        "print('kge=',kge(discharge[1:], original_predictions))"
      ],
      "metadata": {
        "colab": {
          "base_uri": "https://localhost:8080/"
        },
        "id": "XAC0k0Czn2KR",
        "outputId": "68b8e6d8-c5bf-4bdf-c911-cd3d345a91ec"
      },
      "execution_count": 896,
      "outputs": [
        {
          "output_type": "stream",
          "name": "stdout",
          "text": [
            "Nash-Sutcliffe Efficiency (NSE): 0.958523293999513\n",
            "rmse= 48.01902124348602\n",
            "kge= 0.9701858808715361\n"
          ]
        }
      ]
    },
    {
      "cell_type": "markdown",
      "source": [
        "# Validation: 1-day ahead Prediction"
      ],
      "metadata": {
        "id": "RH7VJRtFn5mR"
      }
    },
    {
      "cell_type": "code",
      "source": [
        "# Store the predictions\n",
        "predictions1 = []\n",
        "\n",
        "# Predict 1-day ahead for each day in the test set\n",
        "for i in range(len(scaled_test_X)):\n",
        "    input_seq = scaled_test_X[i].reshape(1, 1, -1)  # Ensure shape (batch=1, seq_length=1, input_size)\n",
        "    input_seq = torch.tensor(input_seq, dtype=torch.float32)  # Convert to PyTorch tensor\n",
        "\n",
        "    pred1 = model(input_seq)  # Prediction\n",
        "    predictions1.append(pred1.item())  # Convert to scalar and store"
      ],
      "metadata": {
        "id": "diB5HbRvn9Hy"
      },
      "execution_count": 897,
      "outputs": []
    },
    {
      "cell_type": "code",
      "source": [
        "#Invert prevision\n",
        "predictions_array1 = np.array(predictions1).reshape(-1, 1)\n",
        "original_predictions1 = scaler_y.inverse_transform(predictions_array1).flatten()"
      ],
      "metadata": {
        "id": "P4cMlpsEn_qS"
      },
      "execution_count": 898,
      "outputs": []
    },
    {
      "cell_type": "code",
      "source": [
        "nse_value = nash_sutcliffe_efficiency(discharge1[1:], original_predictions1)\n",
        "print(\"Nash-Sutcliffe Efficiency (NSE):\", nse_value)\n",
        "\n",
        "print('rmse=',calculate_rmse(discharge1[1:], original_predictions1))\n",
        "\n",
        "print('kge=',kge(discharge1[1:], original_predictions1))"
      ],
      "metadata": {
        "colab": {
          "base_uri": "https://localhost:8080/"
        },
        "id": "3EayeWbToDrU",
        "outputId": "e91b1b86-fe56-4527-8627-d3bf1f7e2759"
      },
      "execution_count": 899,
      "outputs": [
        {
          "output_type": "stream",
          "name": "stdout",
          "text": [
            "Nash-Sutcliffe Efficiency (NSE): 0.9657238855891488\n",
            "rmse= 39.43694934695758\n",
            "kge= 0.967472058961915\n"
          ]
        }
      ]
    },
    {
      "cell_type": "code",
      "source": [
        "# Create a date range from '01-01-2000' to '12-31-2005'\n",
        "time1 = np.datetime64('2006-01-02')\n",
        "time2 = np.datetime64('2007-12-31')\n",
        "time = np.arange(time1, time2 + np.timedelta64(1, 'D'), dtype='datetime64[D]')\n",
        "\n",
        "# Create a figure and axes with a reduced figure size\n",
        "fig, ax1 = plt.subplots(figsize=(6.5, 3.))\n",
        "\n",
        "# Plot a histogram for precipitation on ax1\n",
        "ax1.bar(time, prec1[1:], color='black')\n",
        "\n",
        "# Format x-axis labels\n",
        "ax1.xaxis.set_major_formatter(plt.matplotlib.dates.DateFormatter('%Y-%m'))\n",
        "plt.xticks(rotation=45)\n",
        "\n",
        "ax1.set_xlabel('Date t [days]')\n",
        "\n",
        "# Set y-axis parameters for precipitation\n",
        "ax1.set_ylabel('Precipitation [mm]', color='black')\n",
        "ax1.tick_params(axis='y', labelcolor='black')\n",
        "ax1.set_ylim(0, 100)\n",
        "ax1.set_yticks(np.arange(0, 101, 20))\n",
        "\n",
        "# Invert y-axis and place ticks on the left for precipitation\n",
        "ax1.invert_yaxis()\n",
        "ax1.yaxis.set_label_position(\"left\")\n",
        "\n",
        "# Create a second y-axis to plot discharge\n",
        "ax2 = ax1.twinx()\n",
        "ax2.plot(time, discharge1[1:], 'b--', label='Qobs')\n",
        "\n",
        "# Plot minimum, maximum, and mean values as a confidence region\n",
        "#ax2.fill_between(time, min_trajectory, max_trajectory, color='gray', alpha=0.3, label='99% CrI')\n",
        "\n",
        "# Plot the predictions\n",
        "ax2.plot(time, original_predictions1, 'g', label='LSTM')\n",
        "ax2.plot(time, S711[1:], 'r', label='HyMoLAP')\n",
        "\n",
        "# Set y-axis parameters for daily discharge\n",
        "ax2.set_ylabel('Discharge Q [m³/s]', color='blue')\n",
        "ax2.tick_params(axis='y', labelcolor='blue')\n",
        "ax2.set_ylim(-150, 3000)\n",
        "ax2.set_yticks(np.arange(0, 3000, 500))\n",
        "\n",
        "# Add a legend inside the plot\n",
        "fig.legend(loc='upper left', bbox_to_anchor=(0.15, 0.75))\n",
        "\n",
        "# Display the grid\n",
        "#plt.grid(True)\n",
        "\n",
        "# Add a title to the plot with LaTeX mathematical symbols\n",
        "plt.title(r'$1$-$day$ $lead$ $time$')\n",
        "\n",
        "# Use tight_layout to prevent overlapping\n",
        "plt.tight_layout()\n",
        "\n",
        "# Save the plot as a .jpeg file\n",
        "plt.savefig(\"1_hyM_LSTM_save1.jpeg\", format='jpeg', dpi=500)\n",
        "\n",
        "# Download the file\n",
        "#files.download(\"1_hyM_LSTM_save1.jpeg\")\n",
        "\n",
        "# Display the plot\n",
        "plt.show()\n"
      ],
      "metadata": {
        "colab": {
          "base_uri": "https://localhost:8080/",
          "height": 307
        },
        "id": "hAH7caBjoF4t",
        "outputId": "5a77334e-7632-49b0-ca2e-e85d6f058414"
      },
      "execution_count": 900,
      "outputs": [
        {
          "output_type": "display_data",
          "data": {
            "text/plain": [
              "<Figure size 650x300 with 2 Axes>"
            ],
            "image/png": "[encoded data removed]"
          },
          "metadata": {}
        }
      ]
    },
    {
      "cell_type": "markdown",
      "source": [
        "# Multi-step Prediction"
      ],
      "metadata": {
        "id": "7Fn3SewxoHHZ"
      }
    },
    {
      "cell_type": "code",
      "source": [
        "def multi_step_forecast(model, input_seq, steps):\n",
        "    \"\"\"\n",
        "    Multi-step ahead prediction in a loop\n",
        "    :param model: Trained model (e.g., LSTM)\n",
        "    :param input_seq: Initial sequence (torch tensor with shape (1, 1, input_size))\n",
        "    :param steps: Number of days to predict\n",
        "    :return: List of multi-step predictions\n",
        "    \"\"\"\n",
        "    model.eval()\n",
        "    predictions = []\n",
        "    current_input = input_seq.clone()  # Copy to avoid modifying the original input\n",
        "\n",
        "    for _ in range(steps):\n",
        "        pred = model(current_input)  # Model prediction\n",
        "        predictions.append(pred.item())  # Store the prediction\n",
        "\n",
        "        # Update the input with the current prediction\n",
        "        pred = pred.reshape(1, 1, 1)  # Ensure shape (batch=1, seq_length=1, input_size=1)\n",
        "        current_input = pred  # Replace input with the prediction\n",
        "\n",
        "    return predictions"
      ],
      "metadata": {
        "id": "8LB0QaMmoaQ7"
      },
      "execution_count": 901,
      "outputs": []
    },
    {
      "cell_type": "markdown",
      "source": [
        "3-day ahead"
      ],
      "metadata": {
        "id": "LJ4eXF8ooRIS"
      }
    },
    {
      "cell_type": "code",
      "source": [
        "n_step = 3  # Number of time steps to predict\n",
        "\n",
        "predictions_multi = []  # List to store all predictions\n",
        "\n",
        "# Iterate over scaled_test_X, taking indices that are multiples of n_step\n",
        "i = 0\n",
        "while i < len(scaled_test_X):\n",
        "    input_seq = scaled_test_X[i].reshape(1, 1, -1)  # Ensure shape (batch=1, seq_length=1, input_size)\n",
        "    input_seq = torch.tensor(input_seq, dtype=torch.float32)  # Convert to tensor\n",
        "\n",
        "    pred_steps = multi_step_forecast(model, input_seq, steps=n_step)  # Multi-step prediction\n",
        "    predictions_multi.extend(pred_steps)  # Add to the global list\n",
        "\n",
        "    i += n_step  # Move forward by n_step\n",
        "\n",
        "# Adjust the final size if it exceeds len(scaled_test_X)\n",
        "if len(predictions_multi) > len(scaled_test_X):\n",
        "    predictions_multi = predictions_multi[:len(scaled_test_X)]\n",
        "\n",
        "# Check if the prediction fully covers the test series\n",
        "print(f\"Test series length: {len(scaled_test_X)}\")\n",
        "print(f\"Predictions length: {len(predictions_multi)}\")\n",
        "#print(predictions_multi)  # List of predictions"
      ],
      "metadata": {
        "colab": {
          "base_uri": "https://localhost:8080/"
        },
        "id": "jw3wMNrjoKP5",
        "outputId": "7cfdfc66-0e0e-4e47-abee-a9ef021b487e"
      },
      "execution_count": 902,
      "outputs": [
        {
          "output_type": "stream",
          "name": "stdout",
          "text": [
            "Test series length: 729\n",
            "Predictions length: 729\n"
          ]
        }
      ]
    },
    {
      "cell_type": "code",
      "source": [
        "#Invert prevision\n",
        "predictions_multi_array3 = np.array(predictions_multi).reshape(-1, 1)\n",
        "original_predictions_multi_array3 = scaler_y.inverse_transform(predictions_multi_array3).flatten()"
      ],
      "metadata": {
        "id": "v43c3nuZod-8"
      },
      "execution_count": 903,
      "outputs": []
    },
    {
      "cell_type": "code",
      "source": [
        "#Performance\n",
        "nse_value = nash_sutcliffe_efficiency(discharge1[1:], original_predictions_multi_array3)\n",
        "print(\"Nash-Sutcliffe Efficiency (NSE):\", nse_value)\n",
        "\n",
        "print('rmse=',calculate_rmse(discharge1[1:], original_predictions_multi_array3))\n",
        "\n",
        "print('kge=',kge(discharge1[1:], original_predictions_multi_array3))"
      ],
      "metadata": {
        "colab": {
          "base_uri": "https://localhost:8080/"
        },
        "id": "BbZKX-asogAL",
        "outputId": "d2d8da69-a764-4aea-e3ed-302cd5d6daab"
      },
      "execution_count": 904,
      "outputs": [
        {
          "output_type": "stream",
          "name": "stdout",
          "text": [
            "Nash-Sutcliffe Efficiency (NSE): 0.9298231824534149\n",
            "rmse= 56.42926005170493\n",
            "kge= 0.9325461501837682\n"
          ]
        }
      ]
    },
    {
      "cell_type": "code",
      "source": [
        "# Create a date range from '01-01-2000' to '12-31-2005'\n",
        "time1 = np.datetime64('2006-01-02')\n",
        "time2 = np.datetime64('2007-12-31')\n",
        "time = np.arange(time1, time2 + np.timedelta64(1, 'D'), dtype='datetime64[D]')\n",
        "\n",
        "# Create a figure and axes with a reduced figure size\n",
        "fig, ax1 = plt.subplots(figsize=(6.5, 3.))\n",
        "\n",
        "# Plot a histogram for precipitation on ax1\n",
        "ax1.bar(time, prec1[1:], color='black')\n",
        "\n",
        "# Format the x-axis labels\n",
        "ax1.xaxis.set_major_formatter(plt.matplotlib.dates.DateFormatter('%Y-%m'))\n",
        "plt.xticks(rotation=45)\n",
        "\n",
        "ax1.set_xlabel('Date t [days]')\n",
        "\n",
        "# Y-axis settings for precipitation\n",
        "ax1.set_ylabel('Precipitation [mm]', color='black')\n",
        "ax1.tick_params(axis='y', labelcolor='black')\n",
        "ax1.set_ylim(0, 100)\n",
        "ax1.set_yticks(np.arange(0, 101, 20))\n",
        "\n",
        "# Invert the y-axis and place ticks on the left for precipitation\n",
        "ax1.invert_yaxis()\n",
        "ax1.yaxis.set_label_position(\"left\")\n",
        "\n",
        "# Create a second y-axis to plot discharge\n",
        "ax2 = ax1.twinx()\n",
        "ax2.plot(time, discharge1[1:], 'b--', label='Qobs')\n",
        "\n",
        "# Plot minimum, maximum, and mean values as a confidence region\n",
        "# ax2.fill_between(time, min_trajectory, max_trajectory, color='gray', alpha=0.3, label='99% CrI')\n",
        "\n",
        "# Plot the predictions\n",
        "ax2.plot(time, original_predictions_multi_array3, 'g', label='LSTM')\n",
        "ax2.plot(time, S713[1:], 'r', label='HyMoLAP')\n",
        "\n",
        "# Y-axis settings for daily discharge\n",
        "ax2.set_ylabel('Discharge Q [m³/s]', color='blue')\n",
        "ax2.tick_params(axis='y', labelcolor='blue')\n",
        "ax2.set_ylim(-150, 3000)\n",
        "ax2.set_yticks(np.arange(0, 3000, 500))\n",
        "\n",
        "# Add a legend inside the plot\n",
        "fig.legend(loc='upper left', bbox_to_anchor=(0.15, 0.75))\n",
        "\n",
        "# Display the grid\n",
        "# plt.grid(True)\n",
        "\n",
        "# Add a title to the plot with LaTeX mathematical symbols\n",
        "plt.title(r'$3$-$day$ $lead$ $time$')\n",
        "\n",
        "# Use tight_layout to avoid overlapping elements\n",
        "plt.tight_layout()\n",
        "\n",
        "# Display the plot\n",
        "plt.show()\n"
      ],
      "metadata": {
        "colab": {
          "base_uri": "https://localhost:8080/",
          "height": 307
        },
        "id": "RCI4z7lOoiD8",
        "outputId": "ce8329c3-0a02-4274-96d2-627aaf2b0fe0"
      },
      "execution_count": 905,
      "outputs": [
        {
          "output_type": "display_data",
          "data": {
            "text/plain": [
              "<Figure size 650x300 with 2 Axes>"
            ],
            "image/png": "[encoded data removed]"
          },
          "metadata": {}
        }
      ]
    },
    {
      "cell_type": "markdown",
      "source": [
        "7-day ahead"
      ],
      "metadata": {
        "id": "-2xeHf8lptcD"
      }
    },
    {
      "cell_type": "code",
      "source": [
        "n_step = 7  # Number of time steps to predict\n",
        "\n",
        "predictions_multi = []  # List to store all predictions\n",
        "\n",
        "# Iterate over scaled_test_X, taking indices that are multiples of n_step\n",
        "i = 0\n",
        "while i < len(scaled_test_X):\n",
        "    input_seq = scaled_test_X[i].reshape(1, 1, -1)  # Ensure shape (batch=1, seq_length=1, input_size)\n",
        "    input_seq = torch.tensor(input_seq, dtype=torch.float32)  # Convert to tensor\n",
        "\n",
        "    pred_steps = multi_step_forecast(model, input_seq, steps=n_step)  # Multi-step prediction\n",
        "    predictions_multi.extend(pred_steps)  # Add to the global list\n",
        "\n",
        "    i += n_step  # Move forward by n_step\n",
        "\n",
        "# Adjust the final size if it exceeds len(scaled_test_X)\n",
        "if len(predictions_multi) > len(scaled_test_X):\n",
        "    predictions_multi = predictions_multi[:len(scaled_test_X)]\n",
        "\n",
        "# Check if the prediction fully covers the test series\n",
        "print(f\"Test series length: {len(scaled_test_X)}\")\n",
        "print(f\"Predictions length: {len(predictions_multi)}\")\n",
        "#print(predictions_multi)  # List of predictions"
      ],
      "metadata": {
        "colab": {
          "base_uri": "https://localhost:8080/"
        },
        "id": "ekAO1zABpwX0",
        "outputId": "f30ef1df-af7a-462f-8566-1e2fb562e1a2"
      },
      "execution_count": 906,
      "outputs": [
        {
          "output_type": "stream",
          "name": "stdout",
          "text": [
            "Test series length: 729\n",
            "Predictions length: 729\n"
          ]
        }
      ]
    },
    {
      "cell_type": "code",
      "source": [
        "#Invert prevision\n",
        "predictions_multi_array7 = np.array(predictions_multi).reshape(-1, 1)\n",
        "original_predictions_multi_array7 = scaler_y.inverse_transform(predictions_multi_array7).flatten()"
      ],
      "metadata": {
        "id": "DD2wqCm4r13g"
      },
      "execution_count": 907,
      "outputs": []
    },
    {
      "cell_type": "code",
      "source": [
        "#Performance\n",
        "nse_value = nash_sutcliffe_efficiency(discharge1[1:], original_predictions_multi_array7)\n",
        "print(\"Nash-Sutcliffe Efficiency (NSE):\", nse_value)\n",
        "\n",
        "print('rmse=',calculate_rmse(discharge1[1:], original_predictions_multi_array7))\n",
        "\n",
        "print('kge=',kge(discharge1[1:], original_predictions_multi_array7))"
      ],
      "metadata": {
        "colab": {
          "base_uri": "https://localhost:8080/"
        },
        "id": "ZRtTr_izp1TM",
        "outputId": "220ffa9e-8104-4baa-c8b3-788cf5a7cc98"
      },
      "execution_count": 908,
      "outputs": [
        {
          "output_type": "stream",
          "name": "stdout",
          "text": [
            "Nash-Sutcliffe Efficiency (NSE): 0.8985235346353435\n",
            "rmse= 67.85630176066465\n",
            "kge= 0.9030642703373561\n"
          ]
        }
      ]
    },
    {
      "cell_type": "code",
      "source": [
        "# Create a date range from '01-01-2000' to '12-31-2005'\n",
        "time1 = np.datetime64('2006-01-02')\n",
        "time2 = np.datetime64('2007-12-31')\n",
        "time = np.arange(time1, time2 + np.timedelta64(1, 'D'), dtype='datetime64[D]')\n",
        "\n",
        "# Create a figure and axes with a reduced figure size\n",
        "fig, ax1 = plt.subplots(figsize=(6.5, 3.))\n",
        "\n",
        "# Plot a histogram for precipitation on ax1\n",
        "ax1.bar(time, prec1[1:], color='black')\n",
        "\n",
        "# Format x-axis labels\n",
        "ax1.xaxis.set_major_formatter(plt.matplotlib.dates.DateFormatter('%Y-%m'))\n",
        "plt.xticks(rotation=45)\n",
        "\n",
        "ax1.set_xlabel('Date t [days]')\n",
        "\n",
        "# Y-axis settings for precipitation\n",
        "ax1.set_ylabel('Precipitation [mm]', color='black')\n",
        "ax1.tick_params(axis='y', labelcolor='black')\n",
        "ax1.set_ylim(0, 100)\n",
        "ax1.set_yticks(np.arange(0, 101, 20))\n",
        "\n",
        "# Invert the y-axis and place ticks on the left for precipitation\n",
        "ax1.invert_yaxis()\n",
        "ax1.yaxis.set_label_position(\"left\")\n",
        "\n",
        "# Create a second y-axis to plot discharge\n",
        "ax2 = ax1.twinx()\n",
        "ax2.plot(time, discharge1[1:], 'b--', label='Qobs')\n",
        "\n",
        "# Plot the minimum, maximum, and mean values as a confidence region\n",
        "#ax2.fill_between(time, min_trajectory, max_trajectory, color='gray', alpha=0.3, label='99% CrI')\n",
        "\n",
        "# Plot predictions\n",
        "ax2.plot(time, original_predictions_multi_array7, 'g', label='LSTM')\n",
        "ax2.plot(time, S717[1:], 'r', label='HyMoLAP')\n",
        "\n",
        "# Y-axis settings for daily discharge\n",
        "ax2.set_ylabel('Discharge Q [m³/s]', color='blue')\n",
        "ax2.tick_params(axis='y', labelcolor='blue')\n",
        "ax2.set_ylim(-150, 3000)\n",
        "ax2.set_yticks(np.arange(0, 3000, 500))\n",
        "\n",
        "# Add a legend inside the plot\n",
        "fig.legend(loc='upper left', bbox_to_anchor=(0.15, 0.75))\n",
        "\n",
        "# Display the grid\n",
        "#plt.grid(True)\n",
        "\n",
        "# Add a title to the plot with LaTeX math symbols\n",
        "plt.title(r'$7$-$day$ $lead$ $time$')\n",
        "\n",
        "# Use tight_layout to avoid overlaps\n",
        "plt.tight_layout()\n",
        "\n",
        "# Display the plot\n",
        "plt.show()\n"
      ],
      "metadata": {
        "colab": {
          "base_uri": "https://localhost:8080/",
          "height": 307
        },
        "id": "2fb6IdJsp2VD",
        "outputId": "c2caac0f-40c9-4e90-8f16-6fb55779ec0c"
      },
      "execution_count": 909,
      "outputs": [
        {
          "output_type": "display_data",
          "data": {
            "text/plain": [
              "<Figure size 650x300 with 2 Axes>"
            ],
            "image/png": "[encoded data removed]"
          },
          "metadata": {}
        }
      ]
    },
    {
      "cell_type": "markdown",
      "source": [
        "10-day ahead"
      ],
      "metadata": {
        "id": "DPAgck-Sp4Pw"
      }
    },
    {
      "cell_type": "code",
      "source": [
        "n_step = 10  # Number of time steps to predict\n",
        "\n",
        "predictions_multi = []  # List to store all predictions\n",
        "\n",
        "# Iterate over scaled_test_X, taking indices that are multiples of n_step\n",
        "i = 0\n",
        "while i < len(scaled_test_X):\n",
        "    input_seq = scaled_test_X[i].reshape(1, 1, -1)  # Ensure shape (batch=1, seq_length=1, input_size)\n",
        "    input_seq = torch.tensor(input_seq, dtype=torch.float32)  # Convert to tensor\n",
        "\n",
        "    pred_steps = multi_step_forecast(model, input_seq, steps=n_step)  # Multi-step prediction\n",
        "    predictions_multi.extend(pred_steps)  # Add to the global list\n",
        "\n",
        "    i += n_step  # Move forward by n_step\n",
        "\n",
        "# Adjust the final size if it exceeds len(scaled_test_X)\n",
        "if len(predictions_multi) > len(scaled_test_X):\n",
        "    predictions_multi = predictions_multi[:len(scaled_test_X)]\n",
        "\n",
        "# Check if the prediction fully covers the test series\n",
        "print(f\"Test series length: {len(scaled_test_X)}\")\n",
        "print(f\"Predictions length: {len(predictions_multi)}\")\n",
        "#print(predictions_multi)  # List of predictions"
      ],
      "metadata": {
        "colab": {
          "base_uri": "https://localhost:8080/"
        },
        "id": "RRhwGZtLp8lU",
        "outputId": "ed685896-9caa-498b-befd-47c08f79f9bd"
      },
      "execution_count": 910,
      "outputs": [
        {
          "output_type": "stream",
          "name": "stdout",
          "text": [
            "Test series length: 729\n",
            "Predictions length: 729\n"
          ]
        }
      ]
    },
    {
      "cell_type": "code",
      "source": [
        "#Invert prevision\n",
        "predictions_multi_array10 = np.array(predictions_multi).reshape(-1, 1)\n",
        "original_predictions_multi_array10 = scaler_y.inverse_transform(predictions_multi_array10).flatten()"
      ],
      "metadata": {
        "id": "flq78Z-Bp-Ae"
      },
      "execution_count": 911,
      "outputs": []
    },
    {
      "cell_type": "code",
      "source": [
        "#Performnance\n",
        "nse_value = nash_sutcliffe_efficiency(discharge1[1:], original_predictions_multi_array10)\n",
        "print(\"Nash-Sutcliffe Efficiency (NSE):\", nse_value)\n",
        "\n",
        "print('rmse=',calculate_rmse(discharge1[1:], original_predictions_multi_array10))\n",
        "\n",
        "print('kge=',kge(discharge1[1:], original_predictions_multi_array10))"
      ],
      "metadata": {
        "colab": {
          "base_uri": "https://localhost:8080/"
        },
        "id": "Mi9EIIkfp_du",
        "outputId": "89b72b31-dbd0-4629-a26e-f56a3bc062a9"
      },
      "execution_count": 912,
      "outputs": [
        {
          "output_type": "stream",
          "name": "stdout",
          "text": [
            "Nash-Sutcliffe Efficiency (NSE): 0.8197151880962933\n",
            "rmse= 90.4455265163804\n",
            "kge= 0.8591849537752421\n"
          ]
        }
      ]
    },
    {
      "cell_type": "code",
      "source": [
        "# Create a date range from '01-01-2000' to '12-31-2005'\n",
        "time1 = np.datetime64('2006-01-02')\n",
        "time2 = np.datetime64('2007-12-31')\n",
        "time = np.arange(time1, time2 + np.timedelta64(1, 'D'), dtype='datetime64[D]')\n",
        "\n",
        "# Create a figure and axes with a reduced figure size\n",
        "fig, ax1 = plt.subplots(figsize=(6.5, 3.))\n",
        "\n",
        "# Plot a histogram for precipitation on ax1\n",
        "ax1.bar(time, prec1[1:], color='black')\n",
        "\n",
        "# Format x-axis labels\n",
        "ax1.xaxis.set_major_formatter(plt.matplotlib.dates.DateFormatter('%Y-%m'))\n",
        "plt.xticks(rotation=45)\n",
        "\n",
        "ax1.set_xlabel('Date t [days]')\n",
        "\n",
        "# Y-axis settings for precipitation\n",
        "ax1.set_ylabel('Precipitation [mm]', color='black')\n",
        "ax1.tick_params(axis='y', labelcolor='black')\n",
        "ax1.set_ylim(0, 100)\n",
        "ax1.set_yticks(np.arange(0, 101, 20))\n",
        "\n",
        "# Invert the y-axis and place ticks on the left for precipitation\n",
        "ax1.invert_yaxis()\n",
        "ax1.yaxis.set_label_position(\"left\")\n",
        "\n",
        "# Create a second y-axis to plot discharge\n",
        "ax2 = ax1.twinx()\n",
        "ax2.plot(time, discharge1[1:], 'b--', label='Qobs')\n",
        "\n",
        "# Plot the minimum, maximum, and mean values as a confidence region\n",
        "#ax2.fill_between(time, min_trajectory, max_trajectory, color='gray', alpha=0.3, label='99% CrI')\n",
        "\n",
        "# Plot the mean of the trajectories\n",
        "ax2.plot(time, original_predictions_multi_array10, 'g', label='LSTM')\n",
        "ax2.plot(time, S7110[1:], 'r', label='HyMoLAP')\n",
        "\n",
        "# Y-axis settings for daily discharge\n",
        "ax2.set_ylabel('Discharge Q [m³/s]', color='blue')\n",
        "ax2.tick_params(axis='y', labelcolor='blue')\n",
        "ax2.set_ylim(-150, 3000)\n",
        "ax2.set_yticks(np.arange(0, 3000, 500))\n",
        "\n",
        "# Add a legend inside the plot\n",
        "fig.legend(loc='upper left', bbox_to_anchor=(0.15, 0.75))\n",
        "\n",
        "# Display the grid\n",
        "#plt.grid(True)\n",
        "\n",
        "# Add a title to the plot with LaTeX math symbols\n",
        "plt.title(r'$10$-$day$ $lead$ $time$')\n",
        "\n",
        "# Use tight_layout to avoid overlaps\n",
        "plt.tight_layout()\n",
        "\n",
        "# Display the plot\n",
        "plt.show()\n"
      ],
      "metadata": {
        "colab": {
          "base_uri": "https://localhost:8080/",
          "height": 307
        },
        "id": "Nw93cGl6qAh-",
        "outputId": "0e66945a-edad-4530-8f57-6525ace5c0cf"
      },
      "execution_count": 913,
      "outputs": [
        {
          "output_type": "display_data",
          "data": {
            "text/plain": [
              "<Figure size 650x300 with 2 Axes>"
            ],
            "image/png": "[encoded data removed]"
          },
          "metadata": {}
        }
      ]
    }
  ],
  "metadata": {
    "colab": {
      "provenance": []
    },
    "kernelspec": {
      "display_name": "Python 3",
      "name": "python3"
    },
    "language_info": {
      "name": "python"
    }
  },
  "nbformat": 4,
  "nbformat_minor": 0
}