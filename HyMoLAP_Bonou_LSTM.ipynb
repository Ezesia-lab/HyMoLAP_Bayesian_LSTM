{
  "cells": [
    {
      "cell_type": "markdown",
      "source": [
        "This code compares the HyMoLAP and LSTM models performance for multi-day ahead streamflow simulation in the Bonou sub-catchment."
      ],
      "metadata": {
        "id": "sgxKdPjf3Yth"
      }
    },
    {
      "cell_type": "code",
      "execution_count": 611,
      "metadata": {
        "id": "QHwImzYDzpMn"
      },
      "outputs": [],
      "source": [
        "# Librairies\n",
        "import pandas as pd\n",
        "from matplotlib import pylab as plt\n",
        "from datetime import datetime\n",
        "import numpy as np\n",
        "from math import sqrt\n",
        "from numpy import concatenate\n",
        "\n",
        "import math\n",
        "\n",
        "from scipy.stats import norm\n",
        "\n",
        "import joblib\n",
        "import matplotlib.dates as mdates\n",
        "from google.colab import files\n",
        "\n",
        "from sklearn.preprocessing import MinMaxScaler\n",
        "from sklearn.metrics import mean_squared_error\n",
        "\n",
        "import torch\n",
        "import torch.nn as nn\n",
        "import torch.optim as optim\n",
        "\n",
        "import json"
      ]
    },
    {
      "cell_type": "code",
      "execution_count": 612,
      "metadata": {
        "id": "C4xu_V8k2THU"
      },
      "outputs": [],
      "source": [
        "import random\n",
        "import os\n",
        "\n",
        "# Set seed\n",
        "SEED = 42\n",
        "torch.manual_seed(SEED)\n",
        "torch.cuda.manual_seed_all(SEED)  # If you are using CUDA\n",
        "np.random.seed(SEED)\n",
        "random.seed(SEED)"
      ]
    },
    {
      "cell_type": "code",
      "execution_count": 613,
      "metadata": {
        "id": "Rq8OX1O_Fb5K"
      },
      "outputs": [],
      "source": [
        "#NSE, RMSE, KGE\n",
        "def nash_sutcliffe_efficiency(observed, simulated):\n",
        "    obs_mean = np.mean(observed)\n",
        "    numerator = np.sum((observed - simulated) ** 2)\n",
        "    denominator = np.sum((observed - obs_mean) ** 2)\n",
        "\n",
        "    nse = 1 - (numerator / denominator)\n",
        "    return nse\n",
        "\n",
        "def calculate_rmse(observed, predicted):\n",
        "\n",
        "    rmse = np.sqrt(np.mean((observed - predicted)**2))\n",
        "    return rmse\n",
        "\n",
        "def kge(obs, sim):\n",
        "    \"\"\" Kling-Gupta Efficiency (KGE)\"\"\"\n",
        "    obs, sim = np.array(obs), np.array(sim)\n",
        "\n",
        "    r = np.corrcoef(obs, sim)[0, 1]\n",
        "    beta = np.mean(sim) / np.mean(obs)\n",
        "    gamma = (np.std(sim) / np.mean(sim)) / (np.std(obs) / np.mean(obs))\n",
        "\n",
        "    return 1 - np.sqrt((r - 1)**2 + (beta - 1)**2 + (gamma - 1)**2)\n"
      ]
    },
    {
      "cell_type": "code",
      "execution_count": 614,
      "metadata": {
        "id": "AGCGW8zLhixe",
        "colab": {
          "base_uri": "https://localhost:8080/"
        },
        "outputId": "e25d3272-18b3-471d-ead6-b1b09baad5fe"
      },
      "outputs": [
        {
          "output_type": "stream",
          "name": "stdout",
          "text": [
            "Drive already mounted at /content/drive; to attempt to forcibly remount, call drive.mount(\"/content/drive\", force_remount=True).\n"
          ]
        }
      ],
      "source": [
        "# Import data\n",
        "from google.colab import drive\n",
        "drive.mount('/content/drive')\n",
        "\n",
        "daily = pd.read_excel('/content/drive/MyDrive/Colab Notebooks/Bonou/calage_biao.xlsx')"
      ]
    },
    {
      "cell_type": "code",
      "source": [
        "daily.head()"
      ],
      "metadata": {
        "colab": {
          "base_uri": "https://localhost:8080/",
          "height": 206
        },
        "id": "-8iTlvec-Y5O",
        "outputId": "cf29a7fb-394b-49de-daec-64ef4a45707a"
      },
      "execution_count": 615,
      "outputs": [
        {
          "output_type": "execute_result",
          "data": {
            "text/plain": [
              "       debit   pluie       etp\n",
              "0  23.120001  0.6252  3.142820\n",
              "1  22.760000  0.0000  2.982918\n",
              "2  22.180000  0.0000  3.682083\n",
              "3  21.590000  0.0000  3.758521\n",
              "4  20.990000  0.0000  3.551428"
            ],
            "text/html": [
              "\n",
              "  <div id=\"df-acb2e671-a5a4-404b-9956-3791c7ec88a6\" class=\"colab-df-container\">\n",
              "    <div>\n",
              "<style scoped>\n",
              "    .dataframe tbody tr th:only-of-type {\n",
              "        vertical-align: middle;\n",
              "    }\n",
              "\n",
              "    .dataframe tbody tr th {\n",
              "        vertical-align: top;\n",
              "    }\n",
              "\n",
              "    .dataframe thead th {\n",
              "        text-align: right;\n",
              "    }\n",
              "</style>\n",
              "<table border=\"1\" class=\"dataframe\">\n",
              "  <thead>\n",
              "    <tr style=\"text-align: right;\">\n",
              "      <th></th>\n",
              "      <th>debit</th>\n",
              "      <th>pluie</th>\n",
              "      <th>etp</th>\n",
              "    </tr>\n",
              "  </thead>\n",
              "  <tbody>\n",
              "    <tr>\n",
              "      <th>0</th>\n",
              "      <td>23.120001</td>\n",
              "      <td>0.6252</td>\n",
              "      <td>3.142820</td>\n",
              "    </tr>\n",
              "    <tr>\n",
              "      <th>1</th>\n",
              "      <td>22.760000</td>\n",
              "      <td>0.0000</td>\n",
              "      <td>2.982918</td>\n",
              "    </tr>\n",
              "    <tr>\n",
              "      <th>2</th>\n",
              "      <td>22.180000</td>\n",
              "      <td>0.0000</td>\n",
              "      <td>3.682083</td>\n",
              "    </tr>\n",
              "    <tr>\n",
              "      <th>3</th>\n",
              "      <td>21.590000</td>\n",
              "      <td>0.0000</td>\n",
              "      <td>3.758521</td>\n",
              "    </tr>\n",
              "    <tr>\n",
              "      <th>4</th>\n",
              "      <td>20.990000</td>\n",
              "      <td>0.0000</td>\n",
              "      <td>3.551428</td>\n",
              "    </tr>\n",
              "  </tbody>\n",
              "</table>\n",
              "</div>\n",
              "    <div class=\"colab-df-buttons\">\n",
              "\n",
              "  <div class=\"colab-df-container\">\n",
              "    <button class=\"colab-df-convert\" onclick=\"convertToInteractive('df-acb2e671-a5a4-404b-9956-3791c7ec88a6')\"\n",
              "            title=\"Convert this dataframe to an interactive table.\"\n",
              "            style=\"display:none;\">\n",
              "\n",
              "  <svg xmlns=\"http://www.w3.org/2000/svg\" height=\"24px\" viewBox=\"0 -960 960 960\">\n",
              "    <path d=\"M120-120v-720h720v720H120Zm60-500h600v-160H180v160Zm220 220h160v-160H400v160Zm0 220h160v-160H400v160ZM180-400h160v-160H180v160Zm440 0h160v-160H620v160ZM180-180h160v-160H180v160Zm440 0h160v-160H620v160Z\"/>\n",
              "  </svg>\n",
              "    </button>\n",
              "\n",
              "  <style>\n",
              "    .colab-df-container {\n",
              "      display:flex;\n",
              "      gap: 12px;\n",
              "    }\n",
              "\n",
              "    .colab-df-convert {\n",
              "      background-color: #E8F0FE;\n",
              "      border: none;\n",
              "      border-radius: 50%;\n",
              "      cursor: pointer;\n",
              "      display: none;\n",
              "      fill: #1967D2;\n",
              "      height: 32px;\n",
              "      padding: 0 0 0 0;\n",
              "      width: 32px;\n",
              "    }\n",
              "\n",
              "    .colab-df-convert:hover {\n",
              "      background-color: #E2EBFA;\n",
              "      box-shadow: 0px 1px 2px rgba(60, 64, 67, 0.3), 0px 1px 3px 1px rgba(60, 64, 67, 0.15);\n",
              "      fill: #174EA6;\n",
              "    }\n",
              "\n",
              "    .colab-df-buttons div {\n",
              "      margin-bottom: 4px;\n",
              "    }\n",
              "\n",
              "    [theme=dark] .colab-df-convert {\n",
              "      background-color: #3B4455;\n",
              "      fill: #D2E3FC;\n",
              "    }\n",
              "\n",
              "    [theme=dark] .colab-df-convert:hover {\n",
              "      background-color: #434B5C;\n",
              "      box-shadow: 0px 1px 3px 1px rgba(0, 0, 0, 0.15);\n",
              "      filter: drop-shadow(0px 1px 2px rgba(0, 0, 0, 0.3));\n",
              "      fill: #FFFFFF;\n",
              "    }\n",
              "  </style>\n",
              "\n",
              "    <script>\n",
              "      const buttonEl =\n",
              "        document.querySelector('#df-acb2e671-a5a4-404b-9956-3791c7ec88a6 button.colab-df-convert');\n",
              "      buttonEl.style.display =\n",
              "        google.colab.kernel.accessAllowed ? 'block' : 'none';\n",
              "\n",
              "      async function convertToInteractive(key) {\n",
              "        const element = document.querySelector('#df-acb2e671-a5a4-404b-9956-3791c7ec88a6');\n",
              "        const dataTable =\n",
              "          await google.colab.kernel.invokeFunction('convertToInteractive',\n",
              "                                                    [key], {});\n",
              "        if (!dataTable) return;\n",
              "\n",
              "        const docLinkHtml = 'Like what you see? Visit the ' +\n",
              "          '<a target=\"_blank\" href=https://colab.research.google.com/notebooks/data_table.ipynb>data table notebook</a>'\n",
              "          + ' to learn more about interactive tables.';\n",
              "        element.innerHTML = '';\n",
              "        dataTable['output_type'] = 'display_data';\n",
              "        await google.colab.output.renderOutput(dataTable, element);\n",
              "        const docLink = document.createElement('div');\n",
              "        docLink.innerHTML = docLinkHtml;\n",
              "        element.appendChild(docLink);\n",
              "      }\n",
              "    </script>\n",
              "  </div>\n",
              "\n",
              "\n",
              "<div id=\"df-697b78a2-1d4f-42c5-9bac-2743ea36098d\">\n",
              "  <button class=\"colab-df-quickchart\" onclick=\"quickchart('df-697b78a2-1d4f-42c5-9bac-2743ea36098d')\"\n",
              "            title=\"Suggest charts\"\n",
              "            style=\"display:none;\">\n",
              "\n",
              "<svg xmlns=\"http://www.w3.org/2000/svg\" height=\"24px\"viewBox=\"0 0 24 24\"\n",
              "     width=\"24px\">\n",
              "    <g>\n",
              "        <path d=\"M19 3H5c-1.1 0-2 .9-2 2v14c0 1.1.9 2 2 2h14c1.1 0 2-.9 2-2V5c0-1.1-.9-2-2-2zM9 17H7v-7h2v7zm4 0h-2V7h2v10zm4 0h-2v-4h2v4z\"/>\n",
              "    </g>\n",
              "</svg>\n",
              "  </button>\n",
              "\n",
              "<style>\n",
              "  .colab-df-quickchart {\n",
              "      --bg-color: #E8F0FE;\n",
              "      --fill-color: #1967D2;\n",
              "      --hover-bg-color: #E2EBFA;\n",
              "      --hover-fill-color: #174EA6;\n",
              "      --disabled-fill-color: #AAA;\n",
              "      --disabled-bg-color: #DDD;\n",
              "  }\n",
              "\n",
              "  [theme=dark] .colab-df-quickchart {\n",
              "      --bg-color: #3B4455;\n",
              "      --fill-color: #D2E3FC;\n",
              "      --hover-bg-color: #434B5C;\n",
              "      --hover-fill-color: #FFFFFF;\n",
              "      --disabled-bg-color: #3B4455;\n",
              "      --disabled-fill-color: #666;\n",
              "  }\n",
              "\n",
              "  .colab-df-quickchart {\n",
              "    background-color: var(--bg-color);\n",
              "    border: none;\n",
              "    border-radius: 50%;\n",
              "    cursor: pointer;\n",
              "    display: none;\n",
              "    fill: var(--fill-color);\n",
              "    height: 32px;\n",
              "    padding: 0;\n",
              "    width: 32px;\n",
              "  }\n",
              "\n",
              "  .colab-df-quickchart:hover {\n",
              "    background-color: var(--hover-bg-color);\n",
              "    box-shadow: 0 1px 2px rgba(60, 64, 67, 0.3), 0 1px 3px 1px rgba(60, 64, 67, 0.15);\n",
              "    fill: var(--button-hover-fill-color);\n",
              "  }\n",
              "\n",
              "  .colab-df-quickchart-complete:disabled,\n",
              "  .colab-df-quickchart-complete:disabled:hover {\n",
              "    background-color: var(--disabled-bg-color);\n",
              "    fill: var(--disabled-fill-color);\n",
              "    box-shadow: none;\n",
              "  }\n",
              "\n",
              "  .colab-df-spinner {\n",
              "    border: 2px solid var(--fill-color);\n",
              "    border-color: transparent;\n",
              "    border-bottom-color: var(--fill-color);\n",
              "    animation:\n",
              "      spin 1s steps(1) infinite;\n",
              "  }\n",
              "\n",
              "  @keyframes spin {\n",
              "    0% {\n",
              "      border-color: transparent;\n",
              "      border-bottom-color: var(--fill-color);\n",
              "      border-left-color: var(--fill-color);\n",
              "    }\n",
              "    20% {\n",
              "      border-color: transparent;\n",
              "      border-left-color: var(--fill-color);\n",
              "      border-top-color: var(--fill-color);\n",
              "    }\n",
              "    30% {\n",
              "      border-color: transparent;\n",
              "      border-left-color: var(--fill-color);\n",
              "      border-top-color: var(--fill-color);\n",
              "      border-right-color: var(--fill-color);\n",
              "    }\n",
              "    40% {\n",
              "      border-color: transparent;\n",
              "      border-right-color: var(--fill-color);\n",
              "      border-top-color: var(--fill-color);\n",
              "    }\n",
              "    60% {\n",
              "      border-color: transparent;\n",
              "      border-right-color: var(--fill-color);\n",
              "    }\n",
              "    80% {\n",
              "      border-color: transparent;\n",
              "      border-right-color: var(--fill-color);\n",
              "      border-bottom-color: var(--fill-color);\n",
              "    }\n",
              "    90% {\n",
              "      border-color: transparent;\n",
              "      border-bottom-color: var(--fill-color);\n",
              "    }\n",
              "  }\n",
              "</style>\n",
              "\n",
              "  <script>\n",
              "    async function quickchart(key) {\n",
              "      const quickchartButtonEl =\n",
              "        document.querySelector('#' + key + ' button');\n",
              "      quickchartButtonEl.disabled = true;  // To prevent multiple clicks.\n",
              "      quickchartButtonEl.classList.add('colab-df-spinner');\n",
              "      try {\n",
              "        const charts = await google.colab.kernel.invokeFunction(\n",
              "            'suggestCharts', [key], {});\n",
              "      } catch (error) {\n",
              "        console.error('Error during call to suggestCharts:', error);\n",
              "      }\n",
              "      quickchartButtonEl.classList.remove('colab-df-spinner');\n",
              "      quickchartButtonEl.classList.add('colab-df-quickchart-complete');\n",
              "    }\n",
              "    (() => {\n",
              "      let quickchartButtonEl =\n",
              "        document.querySelector('#df-697b78a2-1d4f-42c5-9bac-2743ea36098d button');\n",
              "      quickchartButtonEl.style.display =\n",
              "        google.colab.kernel.accessAllowed ? 'block' : 'none';\n",
              "    })();\n",
              "  </script>\n",
              "</div>\n",
              "\n",
              "    </div>\n",
              "  </div>\n"
            ],
            "application/vnd.google.colaboratory.intrinsic+json": {
              "type": "dataframe",
              "variable_name": "daily",
              "summary": "{\n  \"name\": \"daily\",\n  \"rows\": 2192,\n  \"fields\": [\n    {\n      \"column\": \"debit\",\n      \"properties\": {\n        \"dtype\": \"number\",\n        \"std\": 253.37517355543957,\n        \"min\": 6.375999927520752,\n        \"max\": 971.5,\n        \"num_unique_values\": 1598,\n        \"samples\": [\n          15.850000381469727,\n          133.0,\n          45.7599983215332\n        ],\n        \"semantic_type\": \"\",\n        \"description\": \"\"\n      }\n    },\n    {\n      \"column\": \"pluie\",\n      \"properties\": {\n        \"dtype\": \"number\",\n        \"std\": 4.536246010896972,\n        \"min\": 0.0,\n        \"max\": 31.471,\n        \"num_unique_values\": 1396,\n        \"samples\": [\n          1.2357,\n          2.1859,\n          13.2971\n        ],\n        \"semantic_type\": \"\",\n        \"description\": \"\"\n      }\n    },\n    {\n      \"column\": \"etp\",\n      \"properties\": {\n        \"dtype\": \"number\",\n        \"std\": 0.7442984091776862,\n        \"min\": 2.11219880729914,\n        \"max\": 6.18880300037563,\n        \"num_unique_values\": 2192,\n        \"samples\": [\n          4.14283129200339,\n          3.67979731503874,\n          4.24739814177155\n        ],\n        \"semantic_type\": \"\",\n        \"description\": \"\"\n      }\n    }\n  ]\n}"
            }
          },
          "metadata": {},
          "execution_count": 615
        }
      ]
    },
    {
      "cell_type": "markdown",
      "source": [
        "# HyMoLAP Model"
      ],
      "metadata": {
        "id": "f55FRLUpl2Cp"
      }
    },
    {
      "cell_type": "code",
      "source": [
        "#Calibration data\n",
        "discharge = daily.iloc[:1461, 0].to_numpy()\n",
        "prec = daily.iloc[:1461, 1].to_numpy()\n",
        "pet = daily.iloc[:1461, 2].to_numpy()"
      ],
      "metadata": {
        "id": "Sy9OIp3QuRGh"
      },
      "execution_count": 616,
      "outputs": []
    },
    {
      "cell_type": "code",
      "source": [
        "#X(t)\n",
        "def state_basin(MU, LANDA, q):\n",
        "    n = len(q)\n",
        "    X = np.zeros(n)\n",
        "    X[0] = q[0]\n",
        "    for i in range(1, n):\n",
        "        if q[i] == 0:\n",
        "            X[i] = X[i - 1] - (MU / LANDA) * X[i - 1]\n",
        "        else:\n",
        "            X[i] = X[i - 1] + (MU / LANDA) * q[i]\n",
        "    return X"
      ],
      "metadata": {
        "id": "mrFx_MaDg22f"
      },
      "execution_count": 617,
      "outputs": []
    },
    {
      "cell_type": "code",
      "execution_count": 618,
      "metadata": {
        "id": "nVeqJA4W0rJu"
      },
      "outputs": [],
      "source": [
        "#Estimates of the HyMoLAP\n",
        "MU = 0.8001196845564451\n",
        "LAMBDA = 8.242717863862458"
      ]
    },
    {
      "cell_type": "markdown",
      "metadata": {
        "id": "RG-6iHtX8gmS"
      },
      "source": [
        "Multi-step prediction"
      ]
    },
    {
      "cell_type": "markdown",
      "source": [
        "VALIDATION"
      ],
      "metadata": {
        "id": "JwgFap4q_71g"
      }
    },
    {
      "cell_type": "code",
      "execution_count": 619,
      "metadata": {
        "id": "Z86l-yf-5MPt"
      },
      "outputs": [],
      "source": [
        "# Validation data\n",
        "discharge1 = daily.iloc[1461:, 0].to_numpy()\n",
        "prec1 = daily.iloc[1461:, 1].to_numpy()\n",
        "pet1 = daily.iloc[1461:, 2].to_numpy()\n",
        "\n",
        "#Compute the Effective precipitation\n",
        "prec_eff1 = prec1 - pet1\n",
        "prec_eff1[prec_eff1 < 0] = 0\n",
        "\n",
        "#X(t)\n",
        "X = state_basin(MU, LAMBDA, prec_eff1)"
      ]
    },
    {
      "cell_type": "markdown",
      "source": [
        "1-day ahead"
      ],
      "metadata": {
        "id": "XYURSJpU_-fh"
      }
    },
    {
      "cell_type": "code",
      "source": [
        "#Simulation\n",
        "def compute_Q(Q_t, psi_t, mu, lambda_):\n",
        "    Q_next = Q_t +  (- (mu / lambda_) * Q_t**(2 * mu - 1) + (1 / lambda_) * psi_t)\n",
        "\n",
        "    return Q_next\n",
        "\n",
        "S711 = np.zeros(len(discharge1)) #Vector for stocking the prediction\n",
        "S711[0] = discharge1[0]\n",
        "\n",
        "for k in range(0, len(discharge1)-1, 1):\n",
        "    S711[k + 1] = compute_Q(discharge1[k], X[k] * prec_eff1[k], MU, LAMBDA)\n"
      ],
      "metadata": {
        "id": "DZR9lJ4mwCUY"
      },
      "execution_count": 620,
      "outputs": []
    },
    {
      "cell_type": "code",
      "source": [
        "#Performance\n",
        "nse_value = nash_sutcliffe_efficiency(discharge1[1:], S711[1:])\n",
        "print(\"Nash-Sutcliffe Efficiency (NSE):\", nse_value)\n",
        "\n",
        "print('rmse=',calculate_rmse(discharge1[1:], S711[1:]))\n",
        "\n",
        "print('kge=',kge(discharge1[1:], S711[1:]))\n"
      ],
      "metadata": {
        "colab": {
          "base_uri": "https://localhost:8080/"
        },
        "id": "huh_oQbFwHI_",
        "outputId": "654fe2b1-e9a7-4310-f694-baea84aefd70"
      },
      "execution_count": 621,
      "outputs": [
        {
          "output_type": "stream",
          "name": "stdout",
          "text": [
            "Nash-Sutcliffe Efficiency (NSE): 0.9966141715736393\n",
            "rmse= 12.567122210618226\n",
            "kge= 0.9975020866072433\n"
          ]
        }
      ]
    },
    {
      "cell_type": "code",
      "source": [
        "# Create a date range from '01-01-2000' to '12-31-2005'\n",
        "time1 = np.datetime64('2004-01-02')  # Start date\n",
        "time2 = np.datetime64('2005-12-31')  # End date\n",
        "time = np.arange(time1, time2 + np.timedelta64(1, 'D'), dtype='datetime64[D]')\n",
        "\n",
        "# Create a figure and axes with a reduced figure size\n",
        "fig, ax1 = plt.subplots(figsize=(6.5, 3.))\n",
        "\n",
        "# Plot a histogram for precipitation on ax1\n",
        "ax1.bar(time, prec1[1:], color='black')\n",
        "\n",
        "# Format the x-axis labels\n",
        "ax1.xaxis.set_major_formatter(plt.matplotlib.dates.DateFormatter('%Y-%m'))\n",
        "plt.xticks(rotation=45)\n",
        "\n",
        "ax1.set_xlabel('Date t [days]')\n",
        "\n",
        "# Y-axis settings for precipitation\n",
        "ax1.set_ylabel('Precipitation [mm]', color='black')\n",
        "ax1.tick_params(axis='y', labelcolor='black')\n",
        "ax1.set_ylim(0, 100)\n",
        "ax1.set_yticks(np.arange(0, 101, 20))\n",
        "\n",
        "# Invert the y-axis and place ticks on the left for precipitation\n",
        "ax1.invert_yaxis()\n",
        "ax1.yaxis.set_label_position(\"left\")\n",
        "\n",
        "# Create a second y-axis to plot discharge\n",
        "ax2 = ax1.twinx()\n",
        "ax2.plot(time, discharge1[1:], 'b--', label='Qobs')\n",
        "\n",
        "# Plot minimum, maximum, and mean values as a confidence region\n",
        "#ax2.fill_between(time, min_trajectory, max_trajectory, color='gray', alpha=0.3, label='99% CrI')\n",
        "\n",
        "# Plot the prediction\n",
        "ax2.plot(time, S711[1:], 'r', label='Qsim')\n",
        "\n",
        "# Y-axis settings for daily discharge\n",
        "ax2.set_ylabel('Discharge Q [m³/s]', color='blue')\n",
        "ax2.tick_params(axis='y', labelcolor='blue')\n",
        "ax2.set_ylim(-60, 1400)\n",
        "ax2.set_yticks(np.arange(0, 1400, 400))\n",
        "\n",
        "# Add a legend inside the plot\n",
        "fig.legend(loc='upper left', bbox_to_anchor=(0.15, 0.75))\n",
        "\n",
        "# Display the grid\n",
        "#plt.grid(True)\n",
        "\n",
        "# Add a title to the plot with LaTeX mathematical symbols\n",
        "plt.title(r'$1$-$day$ $lead$ $time$')\n",
        "\n",
        "# Use tight_layout to avoid overlaps\n",
        "plt.tight_layout()\n",
        "\n",
        "# Display the plot\n",
        "plt.show()\n"
      ],
      "metadata": {
        "colab": {
          "base_uri": "https://localhost:8080/",
          "height": 307
        },
        "id": "oRfTPFAHwTgZ",
        "outputId": "501bad40-f3e8-4dab-c3ba-651a1af8d44c"
      },
      "execution_count": 622,
      "outputs": [
        {
          "output_type": "display_data",
          "data": {
            "text/plain": [
              "<Figure size 650x300 with 2 Axes>"
            ],
            "image/png": "[encoded data removed]"
          },
          "metadata": {}
        }
      ]
    },
    {
      "cell_type": "markdown",
      "source": [
        "3-day ahead"
      ],
      "metadata": {
        "id": "yU6FTnBYwU9n"
      }
    },
    {
      "cell_type": "code",
      "source": [
        "#Simulation\n",
        "def compute_Q(Q_t, psi_t, mu, lambda_):\n",
        "    Q_values = []\n",
        "    for i in range(1, 4):\n",
        "      if i==1:\n",
        "        Q_next = Q_t +  (- (mu / lambda_) * Q_t**(2 * mu - 1) + (1 / lambda_) * psi_t)\n",
        "        Q_values.append(Q_next)\n",
        "        Q_prec = Q_t\n",
        "        Q_t = Q_next\n",
        "      else:\n",
        "        Q_next = 2*Q_t-Q_prec\n",
        "        Q_values.append(Q_next)\n",
        "        Q_prec = Q_t\n",
        "        Q_t = Q_next\n",
        "\n",
        "    return tuple(Q_values)\n",
        "\n",
        "S713 = np.zeros(len(discharge1))\n",
        "S713[0] = discharge1[0]\n",
        "\n",
        "for k in range(0, len(discharge1)-2, 3):  #loup\n",
        "    (S713[k+1], S713[k+2], S713[k+3]) = \\\n",
        "        compute_Q(discharge1[k], X[k]*prec_eff1[k], MU, LAMBDA)\n"
      ],
      "metadata": {
        "id": "GePKqKx2wYvD"
      },
      "execution_count": 623,
      "outputs": []
    },
    {
      "cell_type": "code",
      "source": [
        "#We check here the last value reached by the loup\n",
        "S713[-2], S713[-1]"
      ],
      "metadata": {
        "colab": {
          "base_uri": "https://localhost:8080/"
        },
        "id": "ZLvS43ofw7_C",
        "outputId": "2f7fb26d-a829-45c5-a5ea-7f2eac2d32b5"
      },
      "execution_count": 624,
      "outputs": [
        {
          "output_type": "execute_result",
          "data": {
            "text/plain": [
              "(21.030641883385012, 0.0)"
            ]
          },
          "metadata": {},
          "execution_count": 624
        }
      ]
    },
    {
      "cell_type": "code",
      "source": [
        "#We compute  streamflow for last days that were not considered in the loup\n",
        "psi = X[-2]*prec_eff1[-2]\n",
        "S713[-1] = discharge1[-2] +  (- (MU / LAMBDA) * discharge1[-2]**(2 * MU - 1) + (1 / LAMBDA) * psi)"
      ],
      "metadata": {
        "id": "Vu6zRIyUxM68"
      },
      "execution_count": 625,
      "outputs": []
    },
    {
      "cell_type": "code",
      "source": [
        "#Performance\n",
        "nse_value = nash_sutcliffe_efficiency(discharge1[1:], S713[1:])\n",
        "print(\"Nash-Sutcliffe Efficiency (NSE):\", nse_value)\n",
        "\n",
        "print('rmse=',calculate_rmse(discharge1[1:], S713[1:]))\n",
        "\n",
        "print('kge=',kge(discharge1[1:], S713[1:]))\n"
      ],
      "metadata": {
        "colab": {
          "base_uri": "https://localhost:8080/"
        },
        "id": "Q8ku9sSmxpVa",
        "outputId": "3dec851b-57ce-4cfb-cffb-438b644844bf"
      },
      "execution_count": 626,
      "outputs": [
        {
          "output_type": "stream",
          "name": "stdout",
          "text": [
            "Nash-Sutcliffe Efficiency (NSE): 0.9858373956692847\n",
            "rmse= 25.702473858281124\n",
            "kge= 0.9911441481312079\n"
          ]
        }
      ]
    },
    {
      "cell_type": "code",
      "source": [
        "# Create a date range from '01-01-2000' to '12-31-2005'\n",
        "time1 = np.datetime64('2004-01-02')  # Start date\n",
        "time2 = np.datetime64('2005-12-31')  # End date\n",
        "time = np.arange(time1, time2 + np.timedelta64(1, 'D'), dtype='datetime64[D]')\n",
        "\n",
        "# Create a figure and axes with a reduced figure size\n",
        "fig, ax1 = plt.subplots(figsize=(6.5, 3.))\n",
        "\n",
        "# Plot a histogram for precipitation on ax1\n",
        "ax1.bar(time, prec1[1:], color='black')\n",
        "\n",
        "# Format the x-axis labels\n",
        "ax1.xaxis.set_major_formatter(plt.matplotlib.dates.DateFormatter('%Y-%m'))\n",
        "plt.xticks(rotation=45)\n",
        "\n",
        "ax1.set_xlabel('Date t [days]')\n",
        "\n",
        "# Y-axis settings for precipitation\n",
        "ax1.set_ylabel('Precipitation [mm]', color='black')\n",
        "ax1.tick_params(axis='y', labelcolor='black')\n",
        "ax1.set_ylim(0, 100)\n",
        "ax1.set_yticks(np.arange(0, 101, 20))\n",
        "\n",
        "# Invert the y-axis and place ticks on the left for precipitation\n",
        "ax1.invert_yaxis()\n",
        "ax1.yaxis.set_label_position(\"left\")\n",
        "\n",
        "# Create a second y-axis to plot discharge\n",
        "ax2 = ax1.twinx()\n",
        "ax2.plot(time, discharge1[1:], 'b--', label='Qobs')\n",
        "\n",
        "# Plot minimum, maximum, and mean values as a confidence region\n",
        "#ax2.fill_between(time, min_trajectory, max_trajectory, color='gray', alpha=0.3, label='99% CrI')\n",
        "\n",
        "# Plot the prediction\n",
        "ax2.plot(time, S713[1:], 'r', label='Qsim')\n",
        "\n",
        "# Y-axis settings for daily discharge\n",
        "ax2.set_ylabel('Discharge Q [m³/s]', color='blue')\n",
        "ax2.tick_params(axis='y', labelcolor='blue')\n",
        "ax2.set_ylim(-60, 1400)\n",
        "ax2.set_yticks(np.arange(0, 1400, 400))\n",
        "\n",
        "# Add a legend inside the plot\n",
        "fig.legend(loc='upper left', bbox_to_anchor=(0.15, 0.75))\n",
        "\n",
        "# Display the grid\n",
        "#plt.grid(True)\n",
        "\n",
        "# Add a title to the plot with LaTeX mathematical symbols\n",
        "plt.title(r'$3$-$day$ $lead$ $time$')\n",
        "\n",
        "# Use tight_layout to avoid overlaps\n",
        "plt.tight_layout()\n",
        "\n",
        "# Display the plot\n",
        "plt.show()\n"
      ],
      "metadata": {
        "colab": {
          "base_uri": "https://localhost:8080/",
          "height": 307
        },
        "id": "SLcwqn_vxvY5",
        "outputId": "31fa5fb9-f684-4993-f888-3ae7a146db92"
      },
      "execution_count": 627,
      "outputs": [
        {
          "output_type": "display_data",
          "data": {
            "text/plain": [
              "<Figure size 650x300 with 2 Axes>"
            ],
            "image/png": "[encoded data removed]"
          },
          "metadata": {}
        }
      ]
    },
    {
      "cell_type": "markdown",
      "source": [
        "7-day ahead"
      ],
      "metadata": {
        "id": "owKTlHppxyZ3"
      }
    },
    {
      "cell_type": "code",
      "source": [
        "#Simulation\n",
        "def compute_Q(Q_t, psi_t, mu, lambda_):\n",
        "    Q_values = []\n",
        "    for i in range(1, 8):\n",
        "      if i==1:\n",
        "        Q_next = Q_t +  (- (mu / lambda_) * Q_t**(2 * mu - 1) + (1 / lambda_) * psi_t)\n",
        "        Q_values.append(Q_next)\n",
        "        Q_prec = Q_t\n",
        "        Q_t = Q_next\n",
        "      else:\n",
        "        Q_next = 2*Q_t-Q_prec\n",
        "        Q_values.append(Q_next)\n",
        "        Q_prec = Q_t\n",
        "        Q_t = Q_next\n",
        "\n",
        "    return tuple(Q_values)\n",
        "\n",
        "S717 = np.zeros(len(discharge1))\n",
        "S717[0] = discharge1[0]\n",
        "\n",
        "for k in range(0, len(discharge1)-3, 7):\n",
        "    (S717[k+1], S717[k+2], S717[k+3], S717[k+4], S717[k+5], S717[k+6], S717[k+7]) = \\\n",
        "        compute_Q(discharge1[k], X[k]*prec_eff1[k], MU, LAMBDA)\n"
      ],
      "metadata": {
        "id": "ug_496Max0kq"
      },
      "execution_count": 628,
      "outputs": []
    },
    {
      "cell_type": "code",
      "source": [
        "S717[-3], S717[-2]"
      ],
      "metadata": {
        "colab": {
          "base_uri": "https://localhost:8080/"
        },
        "id": "uuIl01vByP3A",
        "outputId": "23265c48-db70-43eb-ac7d-538fb0af700f"
      },
      "execution_count": 629,
      "outputs": [
        {
          "output_type": "execute_result",
          "data": {
            "text/plain": [
              "(18.484830349154873, 0.0)"
            ]
          },
          "metadata": {},
          "execution_count": 629
        }
      ]
    },
    {
      "cell_type": "code",
      "source": [
        "psi = X[-3]*prec_eff1[-3]\n",
        "S717[-2] = discharge1[-3] +  (- (MU / LAMBDA) * discharge1[-3]**(2 * MU - 1) + (1 / LAMBDA) * psi)\n",
        "\n",
        "S717[-1] = 2*S717[-2] - S717[-3]"
      ],
      "metadata": {
        "id": "sSVzhwSQyRrr"
      },
      "execution_count": 630,
      "outputs": []
    },
    {
      "cell_type": "code",
      "source": [
        "nse_value = nash_sutcliffe_efficiency(discharge1[1:], S717[1:])\n",
        "print(\"Nash-Sutcliffe Efficiency (NSE):\", nse_value)\n",
        "\n",
        "print('rmse=',calculate_rmse(discharge1[1:], S717[1:]))\n",
        "\n",
        "print('kge=',kge(discharge1[1:], S717[1:]))"
      ],
      "metadata": {
        "colab": {
          "base_uri": "https://localhost:8080/"
        },
        "id": "3HKB-qm2ySTi",
        "outputId": "4f6b8f15-5806-493e-ba57-16f10361c0a4"
      },
      "execution_count": 631,
      "outputs": [
        {
          "output_type": "stream",
          "name": "stdout",
          "text": [
            "Nash-Sutcliffe Efficiency (NSE): 0.9548429667739058\n",
            "rmse= 45.895073081653564\n",
            "kge= 0.9766946404874096\n"
          ]
        }
      ]
    },
    {
      "cell_type": "code",
      "source": [
        "# Create a date range from '01-01-2000' to '12-31-2005'\n",
        "time1 = np.datetime64('2004-01-02')  # Start date\n",
        "time2 = np.datetime64('2005-12-31')  # End date\n",
        "time = np.arange(time1, time2 + np.timedelta64(1, 'D'), dtype='datetime64[D]')\n",
        "\n",
        "# Create a figure and axes with a reduced figure size\n",
        "fig, ax1 = plt.subplots(figsize=(6.5, 3.))\n",
        "\n",
        "# Plot a histogram for precipitation on ax1\n",
        "ax1.bar(time, prec1[1:], color='black')\n",
        "\n",
        "# Format the x-axis labels\n",
        "ax1.xaxis.set_major_formatter(plt.matplotlib.dates.DateFormatter('%Y-%m'))\n",
        "plt.xticks(rotation=45)\n",
        "\n",
        "ax1.set_xlabel('Date t [days]')\n",
        "\n",
        "# Y-axis settings for precipitation\n",
        "ax1.set_ylabel('Precipitation [mm]', color='black')\n",
        "ax1.tick_params(axis='y', labelcolor='black')\n",
        "ax1.set_ylim(0, 100)\n",
        "ax1.set_yticks(np.arange(0, 101, 20))\n",
        "\n",
        "# Invert the y-axis and place ticks on the left for precipitation\n",
        "ax1.invert_yaxis()\n",
        "ax1.yaxis.set_label_position(\"left\")\n",
        "\n",
        "# Create a second y-axis to plot discharge\n",
        "ax2 = ax1.twinx()\n",
        "ax2.plot(time, discharge1[1:], 'b--', label='Qobs')\n",
        "\n",
        "# Plot minimum, maximum, and mean values as a confidence region\n",
        "#ax2.fill_between(time, min_trajectory, max_trajectory, color='gray', alpha=0.3, label='99% CrI')\n",
        "\n",
        "# Plot the prediction\n",
        "ax2.plot(time, S717[1:], 'r', label='Qsim')\n",
        "\n",
        "# Y-axis settings for daily discharge\n",
        "ax2.set_ylabel('Discharge Q [m³/s]', color='blue')\n",
        "ax2.tick_params(axis='y', labelcolor='blue')\n",
        "ax2.set_ylim(-60, 1400)\n",
        "ax2.set_yticks(np.arange(0, 1400, 400))\n",
        "\n",
        "# Add a legend inside the plot\n",
        "fig.legend(loc='upper left', bbox_to_anchor=(0.15, 0.75))\n",
        "\n",
        "# Display the grid\n",
        "#plt.grid(True)\n",
        "\n",
        "# Add a title to the plot with LaTeX mathematical symbols\n",
        "plt.title(r'$7$-$day$ $lead$ $time$')\n",
        "\n",
        "# Use tight_layout to avoid overlaps\n",
        "plt.tight_layout()\n",
        "\n",
        "# Display the plot\n",
        "plt.show()\n"
      ],
      "metadata": {
        "colab": {
          "base_uri": "https://localhost:8080/",
          "height": 307
        },
        "id": "VWURFczdyaq8",
        "outputId": "4c8f7a8f-237f-4c52-d571-d816327eae61"
      },
      "execution_count": 632,
      "outputs": [
        {
          "output_type": "display_data",
          "data": {
            "text/plain": [
              "<Figure size 650x300 with 2 Axes>"
            ],
            "image/png": "[encoded data removed]"
          },
          "metadata": {}
        }
      ]
    },
    {
      "cell_type": "markdown",
      "source": [
        "10-day ahead"
      ],
      "metadata": {
        "id": "XKujTrh0wWqv"
      }
    },
    {
      "cell_type": "code",
      "execution_count": 633,
      "metadata": {
        "id": "RujE2uxz5jKo"
      },
      "outputs": [],
      "source": [
        "#Simulation\n",
        "def compute_Q(Q_t, psi_t, mu, lambda_):\n",
        "    Q_values = []\n",
        "    for i in range(1, 11):\n",
        "      if i==1:\n",
        "        Q_next = Q_t +  (- (mu / lambda_) * Q_t**(2 * mu - 1) + (1 / lambda_) * psi_t)\n",
        "        Q_values.append(Q_next)\n",
        "        Q_prec = Q_t\n",
        "        Q_t = Q_next\n",
        "      else:\n",
        "        Q_next = 2*Q_t-Q_prec\n",
        "        Q_values.append(Q_next)\n",
        "        Q_prec = Q_t\n",
        "        Q_t = Q_next\n",
        "\n",
        "    return tuple(Q_values)\n",
        "\n",
        "S7110 = np.zeros(len(discharge1))\n",
        "S7110[0] = discharge1[0]\n",
        "\n",
        "for k in range(0, len(discharge1)-1, 10):\n",
        "    (S7110[k+1], S7110[k+2], S7110[k+3], S7110[k+4], S7110[k+5], S7110[k+6], S7110[k+7],\n",
        "     S7110[k+8], S7110[k+9], S7110[k+10]) = \\\n",
        "        compute_Q(discharge1[k], X[k]*prec_eff1[k], MU, LAMBDA)\n"
      ]
    },
    {
      "cell_type": "code",
      "execution_count": 634,
      "metadata": {
        "colab": {
          "base_uri": "https://localhost:8080/"
        },
        "id": "rGJH3qea5nee",
        "outputId": "344f383f-e92e-4046-94b0-288a7e47bbe7"
      },
      "outputs": [
        {
          "output_type": "execute_result",
          "data": {
            "text/plain": [
              "16.575471698482268"
            ]
          },
          "metadata": {},
          "execution_count": 634
        }
      ],
      "source": [
        "S7110[-1]"
      ]
    },
    {
      "cell_type": "code",
      "execution_count": 635,
      "metadata": {
        "colab": {
          "base_uri": "https://localhost:8080/"
        },
        "id": "MGkE6a5N5p7t",
        "outputId": "619ff238-2633-42df-cc58-2019e7470bda"
      },
      "outputs": [
        {
          "output_type": "stream",
          "name": "stdout",
          "text": [
            "Nash-Sutcliffe Efficiency (NSE): 0.9209378641031676\n",
            "rmse= 60.72781234777631\n",
            "kge= 0.958973857898287\n"
          ]
        }
      ],
      "source": [
        "nse_value = nash_sutcliffe_efficiency(discharge1[1:], S7110[1:])\n",
        "print(\"Nash-Sutcliffe Efficiency (NSE):\", nse_value)\n",
        "\n",
        "print('rmse=',calculate_rmse(discharge1[1:], S7110[1:]))\n",
        "\n",
        "print('kge=',kge(discharge1[1:], S7110[1:]))\n"
      ]
    },
    {
      "cell_type": "code",
      "execution_count": 636,
      "metadata": {
        "colab": {
          "base_uri": "https://localhost:8080/",
          "height": 307
        },
        "id": "R-ml7U615teQ",
        "outputId": "1103e904-4f04-46f9-890d-1ed8b83a69f9"
      },
      "outputs": [
        {
          "output_type": "display_data",
          "data": {
            "text/plain": [
              "<Figure size 650x300 with 2 Axes>"
            ],
            "image/png": "[encoded data removed]"
          },
          "metadata": {}
        }
      ],
      "source": [
        "# Create a date range from '01-01-2000' to '12-31-2005'\n",
        "time1 = np.datetime64('2004-01-02')  # Start date\n",
        "time2 = np.datetime64('2005-12-31')  # End date\n",
        "time = np.arange(time1, time2 + np.timedelta64(1, 'D'), dtype='datetime64[D]')\n",
        "\n",
        "# Create a figure and axes with a reduced figure size\n",
        "fig, ax1 = plt.subplots(figsize=(6.5, 3.))\n",
        "\n",
        "# Plot a histogram for precipitation on ax1\n",
        "ax1.bar(time, prec1[1:], color='black')\n",
        "\n",
        "# Format the x-axis labels\n",
        "ax1.xaxis.set_major_formatter(plt.matplotlib.dates.DateFormatter('%Y-%m'))\n",
        "plt.xticks(rotation=45)\n",
        "\n",
        "ax1.set_xlabel('Date t [days]')\n",
        "\n",
        "# Y-axis settings for precipitation\n",
        "ax1.set_ylabel('Precipitation [mm]', color='black')\n",
        "ax1.tick_params(axis='y', labelcolor='black')\n",
        "ax1.set_ylim(0, 100)\n",
        "ax1.set_yticks(np.arange(0, 101, 20))\n",
        "\n",
        "# Invert the y-axis and place ticks on the left for precipitation\n",
        "ax1.invert_yaxis()\n",
        "ax1.yaxis.set_label_position(\"left\")\n",
        "\n",
        "# Create a second y-axis to plot discharge\n",
        "ax2 = ax1.twinx()\n",
        "ax2.plot(time, discharge1[1:], 'b--', label='Qobs')\n",
        "\n",
        "# Plot minimum, maximum, and mean values as a confidence region\n",
        "#ax2.fill_between(time, min_trajectory, max_trajectory, color='gray', alpha=0.3, label='99% CrI')\n",
        "\n",
        "# Plot the prediction\n",
        "ax2.plot(time, S7110[1:], 'r', label='Qsim')\n",
        "\n",
        "# Y-axis settings for daily discharge\n",
        "ax2.set_ylabel('Discharge Q [m³/s]', color='blue')\n",
        "ax2.tick_params(axis='y', labelcolor='blue')\n",
        "ax2.set_ylim(-60, 1400)\n",
        "ax2.set_yticks(np.arange(0, 1400, 400))\n",
        "\n",
        "# Add a legend inside the plot\n",
        "fig.legend(loc='upper left', bbox_to_anchor=(0.15, 0.75))\n",
        "\n",
        "# Display the grid\n",
        "#plt.grid(True)\n",
        "\n",
        "# Add a title to the plot with LaTeX mathematical symbols\n",
        "plt.title(r'$10$-$day$ $lead$ $time$')\n",
        "\n",
        "# Use tight_layout to avoid overlaps\n",
        "plt.tight_layout()\n",
        "\n",
        "# Display the plot\n",
        "plt.show()\n"
      ]
    },
    {
      "cell_type": "markdown",
      "source": [
        "# .........................."
      ],
      "metadata": {
        "id": "8FIK2ROInTZc"
      }
    },
    {
      "cell_type": "markdown",
      "source": [
        "## LSTM Model"
      ],
      "metadata": {
        "id": "cQL0pK-kln9V"
      }
    },
    {
      "cell_type": "code",
      "source": [
        "# Define the LSTM model\n",
        "class LSTMModel(nn.Module):\n",
        "    def __init__(self, input_size=1, hidden_size=80, num_layers=2, output_size=1):\n",
        "        super(LSTMModel, self).__init__()\n",
        "        self.hidden_size = hidden_size\n",
        "        self.num_layers = num_layers\n",
        "\n",
        "        self.lstm = nn.LSTM(input_size, hidden_size, num_layers, batch_first=True)\n",
        "        self.fc = nn.Linear(hidden_size, output_size)\n",
        "\n",
        "    def forward(self, x):\n",
        "        batch_size = x.size(0)\n",
        "        h_0 = torch.zeros(self.num_layers, batch_size, self.hidden_size).to(x.device)\n",
        "        c_0 = torch.zeros(self.num_layers, batch_size, self.hidden_size).to(x.device)\n",
        "\n",
        "        lstm_out, _ = self.lstm(x, (h_0, c_0))\n",
        "        out = self.fc(lstm_out[:, -1, :])  # Last output from the LSTM\n",
        "        return out\n",
        "\n",
        "# Model parameters\n",
        "input_size = 1   # Number of input variables\n",
        "hidden_size = 80  # Hidden layer size\n",
        "num_layers = 2   # Number of LSTM layers\n",
        "output_size = 1  # Number of time steps predicted\n",
        "\n",
        "# Instantiate the model\n",
        "model = LSTMModel(input_size, hidden_size, num_layers, output_size)\n",
        "\n",
        "# Loss function and optimizer\n",
        "criterion = nn.MSELoss()\n",
        "optimizer = optim.Adam(model.parameters(), lr=0.001)"
      ],
      "metadata": {
        "id": "XFUTwhWnmQN5"
      },
      "execution_count": 637,
      "outputs": []
    },
    {
      "cell_type": "markdown",
      "source": [
        "Creating dataset"
      ],
      "metadata": {
        "id": "E4SMLyKhndsj"
      }
    },
    {
      "cell_type": "code",
      "source": [
        "# Creating the DataFrame for training (calibration)\n",
        "data_train = pd.DataFrame({\n",
        "        'discharge': discharge[:-1],\n",
        "         #'prec': prec[:-1],\n",
        "         #'pet': pet[:-1],\n",
        "        'target': discharge[1:]\n",
        "})\n",
        "\n",
        "# Creating the DataFrame for validation (test)\n",
        "data_test = pd.DataFrame({\n",
        "        'discharge': discharge1[:-1],\n",
        "         #'prec': prec1[:-1],\n",
        "         #'pet': pet1[:-1],\n",
        "        'target': discharge1[1:]\n",
        "})\n",
        "\n",
        "\n",
        "# Splitting features and target\n",
        "train_X, train_y = data_train.iloc[:, :-1].to_numpy(dtype=np.float32), data_train.iloc[:, -1].to_numpy(dtype=np.float32)\n",
        "test_X, test_y = data_test.iloc[:, :-1].to_numpy(dtype=np.float32), data_test.iloc[:, -1].to_numpy(dtype=np.float32)\n",
        "\n",
        "# Normalizing features\n",
        "scaler_X = MinMaxScaler(feature_range=(0, 1))\n",
        "scaled_train_X = scaler_X.fit_transform(train_X)\n",
        "scaled_test_X = scaler_X.transform(test_X)  # Use transform() for test\n",
        "\n",
        "# Normalizing the target\n",
        "scaler_y = MinMaxScaler(feature_range=(0, 1))\n",
        "scaled_train_y = scaler_y.fit_transform(train_y.reshape(-1, 1)).flatten()\n",
        "scaled_test_y = scaler_y.transform(test_y.reshape(-1, 1)).flatten()"
      ],
      "metadata": {
        "id": "j42oMtdsnWYU"
      },
      "execution_count": 638,
      "outputs": []
    },
    {
      "cell_type": "markdown",
      "source": [
        "Training"
      ],
      "metadata": {
        "id": "ywAn8jP3nh7a"
      }
    },
    {
      "cell_type": "code",
      "source": [
        "# Converting data to PyTorch tensors\n",
        "scaled_train_X = torch.tensor(scaled_train_X, dtype=torch.float32).unsqueeze(-1)  # (batch, seq_len, input_size)\n",
        "scaled_train_y = torch.tensor(scaled_train_y, dtype=torch.float32).unsqueeze(-1)  # (batch, output_size)\n",
        "\n",
        "# Training parameters\n",
        "epochs = 300\n",
        "\n",
        "# Training loop\n",
        "for epoch in range(epochs):\n",
        "    model.train()\n",
        "    optimizer.zero_grad()\n",
        "\n",
        "    # Prediction\n",
        "    y_pred = model(scaled_train_X)\n",
        "\n",
        "    # Loss computation (adjusting y format)\n",
        "    loss = criterion(y_pred, scaled_train_y)\n",
        "\n",
        "    # Backpropagation\n",
        "    loss.backward()\n",
        "    optimizer.step()\n",
        "\n",
        "    # Displaying loss every 10 epochs\n",
        "    if epoch % 10 == 0:\n",
        "        print(f'Epoch {epoch}, Loss: {loss.item():.4f}')"
      ],
      "metadata": {
        "colab": {
          "base_uri": "https://localhost:8080/"
        },
        "id": "NwU9PXPJnY1V",
        "outputId": "ab7b7f38-6ce8-462e-882a-4931627d7d90"
      },
      "execution_count": 639,
      "outputs": [
        {
          "output_type": "stream",
          "name": "stdout",
          "text": [
            "Epoch 0, Loss: 0.0863\n",
            "Epoch 10, Loss: 0.0768\n",
            "Epoch 20, Loss: 0.0732\n",
            "Epoch 30, Loss: 0.0680\n",
            "Epoch 40, Loss: 0.0595\n",
            "Epoch 50, Loss: 0.0456\n",
            "Epoch 60, Loss: 0.0260\n",
            "Epoch 70, Loss: 0.0064\n",
            "Epoch 80, Loss: 0.0005\n",
            "Epoch 90, Loss: 0.0014\n",
            "Epoch 100, Loss: 0.0003\n",
            "Epoch 110, Loss: 0.0004\n",
            "Epoch 120, Loss: 0.0003\n",
            "Epoch 130, Loss: 0.0003\n",
            "Epoch 140, Loss: 0.0003\n",
            "Epoch 150, Loss: 0.0003\n",
            "Epoch 160, Loss: 0.0003\n",
            "Epoch 170, Loss: 0.0003\n",
            "Epoch 180, Loss: 0.0003\n",
            "Epoch 190, Loss: 0.0003\n",
            "Epoch 200, Loss: 0.0003\n",
            "Epoch 210, Loss: 0.0003\n",
            "Epoch 220, Loss: 0.0002\n",
            "Epoch 230, Loss: 0.0002\n",
            "Epoch 240, Loss: 0.0002\n",
            "Epoch 250, Loss: 0.0002\n",
            "Epoch 260, Loss: 0.0002\n",
            "Epoch 270, Loss: 0.0002\n",
            "Epoch 280, Loss: 0.0002\n",
            "Epoch 290, Loss: 0.0002\n"
          ]
        }
      ]
    },
    {
      "cell_type": "markdown",
      "source": [
        "# Training Evaluation"
      ],
      "metadata": {
        "id": "pT_-nHFunuoa"
      }
    },
    {
      "cell_type": "code",
      "source": [
        "#Evaluation mode\n",
        "model.eval()"
      ],
      "metadata": {
        "colab": {
          "base_uri": "https://localhost:8080/"
        },
        "id": "qU02VnNUnj-6",
        "outputId": "44d41709-d791-4bb7-9268-5372e87ccd2d"
      },
      "execution_count": 640,
      "outputs": [
        {
          "output_type": "execute_result",
          "data": {
            "text/plain": [
              "LSTMModel(\n",
              "  (lstm): LSTM(1, 80, num_layers=2, batch_first=True)\n",
              "  (fc): Linear(in_features=80, out_features=1, bias=True)\n",
              ")"
            ]
          },
          "metadata": {},
          "execution_count": 640
        }
      ]
    },
    {
      "cell_type": "code",
      "source": [
        "# Store predictions\n",
        "predictions = []\n",
        "\n",
        "# Predict 1-day ahead\n",
        "for i in range(len(scaled_train_X)):\n",
        "    input_seq = scaled_train_X[i].reshape(1, 1, -1)  # Ensures (batch=1, seq_length=1, input_size)\n",
        "    input_seq = torch.tensor(input_seq, dtype=torch.float32)  # Convert to PyTorch tensor\n",
        "\n",
        "    pred = model(input_seq)  # Prediction\n",
        "    predictions.append(pred.item())  # Convert to scalar and store\n",
        "\n",
        "# print(\"Predictions:\", predictions)"
      ],
      "metadata": {
        "colab": {
          "base_uri": "https://localhost:8080/"
        },
        "id": "RzQ_StKanxYO",
        "outputId": "d5df3773-2a7e-4200-87ed-117d2b755732"
      },
      "execution_count": 641,
      "outputs": [
        {
          "output_type": "stream",
          "name": "stderr",
          "text": [
            "<ipython-input-641-5e4a18f437f1>:7: UserWarning: To copy construct from a tensor, it is recommended to use sourceTensor.clone().detach() or sourceTensor.clone().detach().requires_grad_(True), rather than torch.tensor(sourceTensor).\n",
            "  input_seq = torch.tensor(input_seq, dtype=torch.float32)  # Convert to PyTorch tensor\n"
          ]
        }
      ]
    },
    {
      "cell_type": "code",
      "source": [
        "# Function to inverse transform the scaled target values back to their original scale\n",
        "def inverse_transform(y):\n",
        "    return scaler_y.inverse_transform(y.reshape(-1, 1))"
      ],
      "metadata": {
        "id": "ZHT3eb98rlj8"
      },
      "execution_count": 642,
      "outputs": []
    },
    {
      "cell_type": "code",
      "source": [
        "# Inverse transform the predictions to their original scale\n",
        "predictions_array = np.array(predictions).reshape(-1, 1)  # Convert to a 2D array\n",
        "original_predictions = scaler_y.inverse_transform(predictions_array).flatten()"
      ],
      "metadata": {
        "id": "oY5ROOPunzab"
      },
      "execution_count": 643,
      "outputs": []
    },
    {
      "cell_type": "code",
      "source": [
        "#Performance\n",
        "nse_value = nash_sutcliffe_efficiency(discharge[1:], original_predictions)\n",
        "print(\"Nash-Sutcliffe Efficiency (NSE):\", nse_value)\n",
        "\n",
        "print('rmse=',calculate_rmse(discharge[1:], original_predictions))\n",
        "\n",
        "print('kge=',kge(discharge[1:], original_predictions))"
      ],
      "metadata": {
        "colab": {
          "base_uri": "https://localhost:8080/"
        },
        "id": "XAC0k0Czn2KR",
        "outputId": "c4c61ce5-c1b2-4bec-ca4d-2b15c4d0b1d7"
      },
      "execution_count": 644,
      "outputs": [
        {
          "output_type": "stream",
          "name": "stdout",
          "text": [
            "Nash-Sutcliffe Efficiency (NSE): 0.9970633620397927\n",
            "rmse= 14.61491015804758\n",
            "kge= 0.9976327991396068\n"
          ]
        }
      ]
    },
    {
      "cell_type": "markdown",
      "source": [
        "# Validation: 1-day ahead Prediction"
      ],
      "metadata": {
        "id": "RH7VJRtFn5mR"
      }
    },
    {
      "cell_type": "code",
      "source": [
        "# Store the predictions\n",
        "predictions1 = []\n",
        "\n",
        "# Predict 1-day ahead for each day in the test set\n",
        "for i in range(len(scaled_test_X)):\n",
        "    input_seq = scaled_test_X[i].reshape(1, 1, -1)  # Ensure shape (batch=1, seq_length=1, input_size)\n",
        "    input_seq = torch.tensor(input_seq, dtype=torch.float32)  # Convert to PyTorch tensor\n",
        "\n",
        "    pred1 = model(input_seq)  # Prediction\n",
        "    predictions1.append(pred1.item())  # Convert to scalar and store"
      ],
      "metadata": {
        "id": "diB5HbRvn9Hy"
      },
      "execution_count": 645,
      "outputs": []
    },
    {
      "cell_type": "code",
      "source": [
        "#Invert prevision\n",
        "predictions_array1 = np.array(predictions1).reshape(-1, 1)\n",
        "original_predictions1 = scaler_y.inverse_transform(predictions_array1).flatten()"
      ],
      "metadata": {
        "id": "P4cMlpsEn_qS"
      },
      "execution_count": 646,
      "outputs": []
    },
    {
      "cell_type": "code",
      "source": [
        "# Performance evaluation\n",
        "nse_value = nash_sutcliffe_efficiency(discharge1[1:], original_predictions1)\n",
        "print(\"Nash-Sutcliffe Efficiency (NSE):\", nse_value)\n",
        "\n",
        "print('rmse=',calculate_rmse(discharge1[1:], original_predictions1))\n",
        "\n",
        "print('kge=',kge(discharge1[1:], original_predictions1))"
      ],
      "metadata": {
        "colab": {
          "base_uri": "https://localhost:8080/"
        },
        "id": "3EayeWbToDrU",
        "outputId": "dcc48742-884b-4541-c056-434f97e19bb8"
      },
      "execution_count": 647,
      "outputs": [
        {
          "output_type": "stream",
          "name": "stdout",
          "text": [
            "Nash-Sutcliffe Efficiency (NSE): 0.9959194851158393\n",
            "rmse= 13.79624341242152\n",
            "kge= 0.9920868457339297\n"
          ]
        }
      ]
    },
    {
      "cell_type": "code",
      "source": [
        "# Create a date range from '01-01-2000' to '12-31-2005'\n",
        "time1 = np.datetime64('2004-01-02')  # Start date\n",
        "time2 = np.datetime64('2005-12-31')  # End date\n",
        "time = np.arange(time1, time2 + np.timedelta64(1, 'D'), dtype='datetime64[D]')\n",
        "\n",
        "# Create a figure and axes with a reduced figure size\n",
        "fig, ax1 = plt.subplots(figsize=(6.5, 3.))\n",
        "\n",
        "# Plot a histogram for precipitation on ax1\n",
        "ax1.bar(time, prec1[1:], color='black')\n",
        "\n",
        "# Format the x-axis labels\n",
        "ax1.xaxis.set_major_formatter(plt.matplotlib.dates.DateFormatter('%Y-%m'))\n",
        "plt.xticks(rotation=45)\n",
        "\n",
        "ax1.set_xlabel('Date t [days]')\n",
        "\n",
        "# Y-axis settings for precipitation\n",
        "ax1.set_ylabel('Precipitation [mm]', color='black')\n",
        "ax1.tick_params(axis='y', labelcolor='black')\n",
        "ax1.set_ylim(0, 100)\n",
        "ax1.set_yticks(np.arange(0, 101, 20))\n",
        "\n",
        "# Invert the y-axis and place ticks on the left for precipitation\n",
        "ax1.invert_yaxis()\n",
        "ax1.yaxis.set_label_position(\"left\")\n",
        "\n",
        "# Create a second y-axis to plot discharge\n",
        "ax2 = ax1.twinx()\n",
        "ax2.plot(time, discharge1[1:], 'b--', label='Qobs')\n",
        "\n",
        "# Plot minimum, maximum, and mean values as a confidence region\n",
        "#ax2.fill_between(time, min_trajectory, max_trajectory, color='gray', alpha=0.3, label='99% CrI')\n",
        "\n",
        "# Plot the prediction\n",
        "ax2.plot(time, original_predictions1, 'g', label='LSTM')\n",
        "ax2.plot(time, S711[1:], 'r', label='HyMoLAP')\n",
        "\n",
        "# Y-axis settings for daily discharge\n",
        "ax2.set_ylabel('Discharge Q [m³/s]', color='blue')\n",
        "ax2.tick_params(axis='y', labelcolor='blue')\n",
        "ax2.set_ylim(-60, 1400)\n",
        "ax2.set_yticks(np.arange(0, 1400, 400))\n",
        "\n",
        "# Add a legend inside the plot\n",
        "fig.legend(loc='upper left', bbox_to_anchor=(0.12, 0.75))\n",
        "\n",
        "# Display the grid\n",
        "#plt.grid(True)\n",
        "\n",
        "# Add a title to the plot with LaTeX mathematical symbols\n",
        "plt.title(r'$1$-$day$ $lead$ $time$')\n",
        "\n",
        "# Use tight_layout to avoid overlaps\n",
        "plt.tight_layout()\n",
        "\n",
        "# Display the plot\n",
        "plt.show()\n"
      ],
      "metadata": {
        "colab": {
          "base_uri": "https://localhost:8080/",
          "height": 307
        },
        "id": "hAH7caBjoF4t",
        "outputId": "b9aae256-6c91-481a-dcb6-2a6ae0ee6867"
      },
      "execution_count": 648,
      "outputs": [
        {
          "output_type": "display_data",
          "data": {
            "text/plain": [
              "<Figure size 650x300 with 2 Axes>"
            ],
            "image/png": "[encoded data removed]"
          },
          "metadata": {}
        }
      ]
    },
    {
      "cell_type": "markdown",
      "source": [
        "# Multi-step Prediction"
      ],
      "metadata": {
        "id": "7Fn3SewxoHHZ"
      }
    },
    {
      "cell_type": "code",
      "source": [
        "def multi_step_forecast(model, input_seq, steps):\n",
        "    \"\"\"\n",
        "    Multi-step ahead prediction in a loop\n",
        "    :param model: Trained model (e.g., LSTM)\n",
        "    :param input_seq: Initial sequence (torch tensor with shape (1, 1, input_size))\n",
        "    :param steps: Number of days to predict\n",
        "    :return: List of multi-step predictions\n",
        "    \"\"\"\n",
        "    model.eval()\n",
        "    predictions = []\n",
        "    current_input = input_seq.clone()  # Copy to avoid modifying the original input\n",
        "\n",
        "    for _ in range(steps):\n",
        "        pred = model(current_input)  # Model prediction\n",
        "        predictions.append(pred.item())  # Store the prediction\n",
        "\n",
        "        # Update the input with the current prediction\n",
        "        pred = pred.reshape(1, 1, 1)  # Ensure shape (batch=1, seq_length=1, input_size=1)\n",
        "        current_input = pred  # Replace input with the prediction\n",
        "\n",
        "    return predictions"
      ],
      "metadata": {
        "id": "8LB0QaMmoaQ7"
      },
      "execution_count": 649,
      "outputs": []
    },
    {
      "cell_type": "markdown",
      "source": [
        "3-day ahead"
      ],
      "metadata": {
        "id": "LJ4eXF8ooRIS"
      }
    },
    {
      "cell_type": "code",
      "source": [
        "n_step = 3  # Number of time steps to predict\n",
        "\n",
        "predictions_multi = []  # List to store all predictions\n",
        "\n",
        "# Iterate over scaled_test_X, taking indices that are multiples of n_step\n",
        "i = 0\n",
        "while i < len(scaled_test_X):\n",
        "    input_seq = scaled_test_X[i].reshape(1, 1, -1)  # Ensure shape (batch=1, seq_length=1, input_size)\n",
        "    input_seq = torch.tensor(input_seq, dtype=torch.float32)  # Convert to tensor\n",
        "\n",
        "    pred_steps = multi_step_forecast(model, input_seq, steps=n_step)  # Multi-step prediction\n",
        "    predictions_multi.extend(pred_steps)  # Add to the global list\n",
        "\n",
        "    i += n_step  # Move forward by n_step\n",
        "\n",
        "# Adjust the final size if it exceeds len(scaled_test_X)\n",
        "if len(predictions_multi) > len(scaled_test_X):\n",
        "    predictions_multi = predictions_multi[:len(scaled_test_X)]\n",
        "\n",
        "# Check if the prediction fully covers the test series\n",
        "print(f\"Test series length: {len(scaled_test_X)}\")\n",
        "print(f\"Predictions length: {len(predictions_multi)}\")\n",
        "#print(predictions_multi)  # List of predictions"
      ],
      "metadata": {
        "colab": {
          "base_uri": "https://localhost:8080/"
        },
        "id": "jw3wMNrjoKP5",
        "outputId": "10789482-1690-47b1-f127-af0900add35f"
      },
      "execution_count": 650,
      "outputs": [
        {
          "output_type": "stream",
          "name": "stdout",
          "text": [
            "Test series length: 730\n",
            "Predictions length: 730\n"
          ]
        }
      ]
    },
    {
      "cell_type": "code",
      "source": [
        "#Invert prevision\n",
        "predictions_multi_array3 = np.array(predictions_multi).reshape(-1, 1)\n",
        "original_predictions_multi_array3 = scaler_y.inverse_transform(predictions_multi_array3).flatten()"
      ],
      "metadata": {
        "id": "v43c3nuZod-8"
      },
      "execution_count": 651,
      "outputs": []
    },
    {
      "cell_type": "code",
      "source": [
        "nse_value = nash_sutcliffe_efficiency(discharge1[1:], original_predictions_multi_array3)\n",
        "print(\"Nash-Sutcliffe Efficiency (NSE):\", nse_value)\n",
        "\n",
        "print('rmse=',calculate_rmse(discharge1[1:], original_predictions_multi_array3))\n",
        "\n",
        "print('kge=',kge(discharge1[1:], original_predictions_multi_array3))"
      ],
      "metadata": {
        "colab": {
          "base_uri": "https://localhost:8080/"
        },
        "id": "BbZKX-asogAL",
        "outputId": "34271470-6223-4938-d0ce-702a45929060"
      },
      "execution_count": 652,
      "outputs": [
        {
          "output_type": "stream",
          "name": "stdout",
          "text": [
            "Nash-Sutcliffe Efficiency (NSE): 0.9830648887727612\n",
            "rmse= 28.10589320385188\n",
            "kge= 0.9830456717776767\n"
          ]
        }
      ]
    },
    {
      "cell_type": "code",
      "source": [
        "# Create a date range from '01-01-2000' to '12-31-2005'\n",
        "time1 = np.datetime64('2004-01-02')  # Start date\n",
        "time2 = np.datetime64('2005-12-31')  # End date\n",
        "time = np.arange(time1, time2 + np.timedelta64(1, 'D'), dtype='datetime64[D]')\n",
        "\n",
        "# Create a figure and axes with a reduced figure size\n",
        "fig, ax1 = plt.subplots(figsize=(6.5, 3.))\n",
        "\n",
        "# Plot a histogram for precipitation on ax1\n",
        "ax1.bar(time, prec1[1:], color='black')\n",
        "\n",
        "# Format the x-axis labels\n",
        "ax1.xaxis.set_major_formatter(plt.matplotlib.dates.DateFormatter('%Y-%m'))\n",
        "plt.xticks(rotation=45)\n",
        "\n",
        "ax1.set_xlabel('Date t [days]')\n",
        "\n",
        "# Y-axis settings for precipitation\n",
        "ax1.set_ylabel('Precipitation [mm]', color='black')\n",
        "ax1.tick_params(axis='y', labelcolor='black')\n",
        "ax1.set_ylim(0, 100)\n",
        "ax1.set_yticks(np.arange(0, 101, 20))\n",
        "\n",
        "# Invert the y-axis and place ticks on the left for precipitation\n",
        "ax1.invert_yaxis()\n",
        "ax1.yaxis.set_label_position(\"left\")\n",
        "\n",
        "# Create a second y-axis to plot discharge\n",
        "ax2 = ax1.twinx()\n",
        "ax2.plot(time, discharge1[1:], 'b--', label='Qobs')\n",
        "\n",
        "# Plot minimum, maximum, and mean values as a confidence region\n",
        "#ax2.fill_between(time, min_trajectory, max_trajectory, color='gray', alpha=0.3, label='99% CrI')\n",
        "\n",
        "# Plot the prediction\n",
        "ax2.plot(time, original_predictions_multi_array3, 'g', label='LSTM')\n",
        "ax2.plot(time, S713[1:], 'r', label='HyMoLAP')\n",
        "\n",
        "# Y-axis settings for daily discharge\n",
        "ax2.set_ylabel('Discharge Q [m³/s]', color='blue')\n",
        "ax2.tick_params(axis='y', labelcolor='blue')\n",
        "ax2.set_ylim(-60, 1400)\n",
        "ax2.set_yticks(np.arange(0, 1400, 400))\n",
        "\n",
        "# Add a legend inside the plot\n",
        "fig.legend(loc='upper left', bbox_to_anchor=(0.12, 0.75))\n",
        "\n",
        "# Display the grid\n",
        "#plt.grid(True)\n",
        "\n",
        "# Add a title to the plot with LaTeX mathematical symbols\n",
        "plt.title(r'$3$-$day$ $lead$ $time$')\n",
        "\n",
        "# Use tight_layout to avoid overlaps\n",
        "plt.tight_layout()\n",
        "\n",
        "# Display the plot\n",
        "plt.show()\n"
      ],
      "metadata": {
        "colab": {
          "base_uri": "https://localhost:8080/",
          "height": 307
        },
        "id": "RCI4z7lOoiD8",
        "outputId": "677436ef-69f7-4df6-c9de-52b6845e5a04"
      },
      "execution_count": 653,
      "outputs": [
        {
          "output_type": "display_data",
          "data": {
            "text/plain": [
              "<Figure size 650x300 with 2 Axes>"
            ],
            "image/png": "[encoded data removed]"
          },
          "metadata": {}
        }
      ]
    },
    {
      "cell_type": "markdown",
      "source": [
        "7-day ahead"
      ],
      "metadata": {
        "id": "-2xeHf8lptcD"
      }
    },
    {
      "cell_type": "code",
      "source": [
        "n_step = 7  # Number of time steps to predict\n",
        "\n",
        "predictions_multi = []  # List to store all predictions\n",
        "\n",
        "# Iterate over scaled_test_X, taking indices that are multiples of n_step\n",
        "i = 0\n",
        "while i < len(scaled_test_X):\n",
        "    input_seq = scaled_test_X[i].reshape(1, 1, -1)  # Ensure shape (batch=1, seq_length=1, input_size)\n",
        "    input_seq = torch.tensor(input_seq, dtype=torch.float32)  # Convert to tensor\n",
        "\n",
        "    pred_steps = multi_step_forecast(model, input_seq, steps=n_step)  # Multi-step prediction\n",
        "    predictions_multi.extend(pred_steps)  # Add to the global list\n",
        "\n",
        "    i += n_step  # Move forward by n_step\n",
        "\n",
        "# Adjust the final size if it exceeds len(scaled_test_X)\n",
        "if len(predictions_multi) > len(scaled_test_X):\n",
        "    predictions_multi = predictions_multi[:len(scaled_test_X)]\n",
        "\n",
        "# Check if the prediction fully covers the test series\n",
        "print(f\"Test series length: {len(scaled_test_X)}\")\n",
        "print(f\"Predictions length: {len(predictions_multi)}\")\n",
        "#print(predictions_multi)  # List of predictions"
      ],
      "metadata": {
        "colab": {
          "base_uri": "https://localhost:8080/"
        },
        "id": "ekAO1zABpwX0",
        "outputId": "a3920fce-c3bd-40c7-aa7d-f55feedc999d"
      },
      "execution_count": 654,
      "outputs": [
        {
          "output_type": "stream",
          "name": "stdout",
          "text": [
            "Test series length: 730\n",
            "Predictions length: 730\n"
          ]
        }
      ]
    },
    {
      "cell_type": "code",
      "source": [
        "#Invert prevision\n",
        "predictions_multi_array7 = np.array(predictions_multi).reshape(-1, 1)\n",
        "original_predictions_multi_array7 = scaler_y.inverse_transform(predictions_multi_array7).flatten()"
      ],
      "metadata": {
        "id": "DD2wqCm4r13g"
      },
      "execution_count": 655,
      "outputs": []
    },
    {
      "cell_type": "code",
      "source": [
        "#Performance\n",
        "nse_value = nash_sutcliffe_efficiency(discharge1[1:], original_predictions_multi_array7)\n",
        "print(\"Nash-Sutcliffe Efficiency (NSE):\", nse_value)\n",
        "\n",
        "print('rmse=',calculate_rmse(discharge1[1:], original_predictions_multi_array7))\n",
        "\n",
        "print('kge=',kge(discharge1[1:], original_predictions_multi_array7))"
      ],
      "metadata": {
        "colab": {
          "base_uri": "https://localhost:8080/"
        },
        "id": "ZRtTr_izp1TM",
        "outputId": "beeb6dae-cfea-4b67-a047-ff3490777a72"
      },
      "execution_count": 656,
      "outputs": [
        {
          "output_type": "stream",
          "name": "stdout",
          "text": [
            "Nash-Sutcliffe Efficiency (NSE): 0.9462559467482625\n",
            "rmse= 50.06896032484159\n",
            "kge= 0.9610538085427087\n"
          ]
        }
      ]
    },
    {
      "cell_type": "code",
      "source": [
        "# Create a date range from '01-01-2000' to '12-31-2005'\n",
        "time1 = np.datetime64('2004-01-02')  # Start date\n",
        "time2 = np.datetime64('2005-12-31')  # End date\n",
        "time = np.arange(time1, time2 + np.timedelta64(1, 'D'), dtype='datetime64[D]')\n",
        "\n",
        "# Create a figure and axes with a reduced figure size\n",
        "fig, ax1 = plt.subplots(figsize=(6.5, 3.))\n",
        "\n",
        "# Plot a histogram for precipitation on ax1\n",
        "ax1.bar(time, prec1[1:], color='black')\n",
        "\n",
        "# Format the x-axis labels\n",
        "ax1.xaxis.set_major_formatter(plt.matplotlib.dates.DateFormatter('%Y-%m'))\n",
        "plt.xticks(rotation=45)\n",
        "\n",
        "ax1.set_xlabel('Date t [days]')\n",
        "\n",
        "# Y-axis settings for precipitation\n",
        "ax1.set_ylabel('Precipitation [mm]', color='black')\n",
        "ax1.tick_params(axis='y', labelcolor='black')\n",
        "ax1.set_ylim(0, 100)\n",
        "ax1.set_yticks(np.arange(0, 101, 20))\n",
        "\n",
        "# Invert the y-axis and place ticks on the left for precipitation\n",
        "ax1.invert_yaxis()\n",
        "ax1.yaxis.set_label_position(\"left\")\n",
        "\n",
        "# Create a second y-axis to plot discharge\n",
        "ax2 = ax1.twinx()\n",
        "ax2.plot(time, discharge1[1:], 'b--', label='Qobs')\n",
        "\n",
        "# Plot minimum, maximum, and mean values as a confidence region\n",
        "#ax2.fill_between(time, min_trajectory, max_trajectory, color='gray', alpha=0.3, label='99% CrI')\n",
        "\n",
        "# Plot the mean of the trajectories\n",
        "ax2.plot(time, original_predictions_multi_array7, 'g', label='LSTM')\n",
        "ax2.plot(time, S717[1:], 'r', label='HyMoLAP')\n",
        "\n",
        "# Y-axis settings for daily discharge\n",
        "ax2.set_ylabel('Discharge Q [m³/s]', color='blue')\n",
        "ax2.tick_params(axis='y', labelcolor='blue')\n",
        "ax2.set_ylim(-60, 1400)\n",
        "ax2.set_yticks(np.arange(0, 1400, 400))\n",
        "\n",
        "# Add a legend inside the plot\n",
        "fig.legend(loc='upper left', bbox_to_anchor=(0.12, 0.75))\n",
        "\n",
        "# Display the grid\n",
        "#plt.grid(True)\n",
        "\n",
        "# Add a title to the plot with LaTeX mathematical symbols\n",
        "plt.title(r'$7$-$day$ $lead$ $time$')\n",
        "\n",
        "# Use tight_layout to avoid overlaps\n",
        "plt.tight_layout()\n",
        "\n",
        "# Display the plot\n",
        "plt.show()\n"
      ],
      "metadata": {
        "colab": {
          "base_uri": "https://localhost:8080/",
          "height": 307
        },
        "id": "2fb6IdJsp2VD",
        "outputId": "80a0208d-535c-4e29-fd20-64e395e06266"
      },
      "execution_count": 657,
      "outputs": [
        {
          "output_type": "display_data",
          "data": {
            "text/plain": [
              "<Figure size 650x300 with 2 Axes>"
            ],
            "image/png": "[encoded data removed]"
          },
          "metadata": {}
        }
      ]
    },
    {
      "cell_type": "markdown",
      "source": [
        "10-day ahead"
      ],
      "metadata": {
        "id": "DPAgck-Sp4Pw"
      }
    },
    {
      "cell_type": "code",
      "source": [
        "n_step = 10  # Number of time steps to predict\n",
        "\n",
        "predictions_multi = []  # List to store all predictions\n",
        "\n",
        "# Iterate over scaled_test_X, taking indices that are multiples of n_step\n",
        "i = 0\n",
        "while i < len(scaled_test_X):\n",
        "    input_seq = scaled_test_X[i].reshape(1, 1, -1)  # Ensure shape (batch=1, seq_length=1, input_size)\n",
        "    input_seq = torch.tensor(input_seq, dtype=torch.float32)  # Convert to tensor\n",
        "\n",
        "    pred_steps = multi_step_forecast(model, input_seq, steps=n_step)  # Multi-step prediction\n",
        "    predictions_multi.extend(pred_steps)  # Add to the global list\n",
        "\n",
        "    i += n_step  # Move forward by n_step\n",
        "\n",
        "# Adjust the final size if it exceeds len(scaled_test_X)\n",
        "if len(predictions_multi) > len(scaled_test_X):\n",
        "    predictions_multi = predictions_multi[:len(scaled_test_X)]\n",
        "\n",
        "# Check if the prediction fully covers the test series\n",
        "print(f\"Test series length: {len(scaled_test_X)}\")\n",
        "print(f\"Predictions length: {len(predictions_multi)}\")\n",
        "#print(predictions_multi)  # List of predictions"
      ],
      "metadata": {
        "colab": {
          "base_uri": "https://localhost:8080/"
        },
        "id": "RRhwGZtLp8lU",
        "outputId": "9b5c6fe7-1d32-4c97-cd17-6c82c6b74714"
      },
      "execution_count": 658,
      "outputs": [
        {
          "output_type": "stream",
          "name": "stdout",
          "text": [
            "Test series length: 730\n",
            "Predictions length: 730\n"
          ]
        }
      ]
    },
    {
      "cell_type": "code",
      "source": [
        "#Invert prevision\n",
        "predictions_multi_array10 = np.array(predictions_multi).reshape(-1, 1)\n",
        "original_predictions_multi_array10 = scaler_y.inverse_transform(predictions_multi_array10).flatten()"
      ],
      "metadata": {
        "id": "flq78Z-Bp-Ae"
      },
      "execution_count": 659,
      "outputs": []
    },
    {
      "cell_type": "code",
      "source": [
        "#Performance\n",
        "nse_value = nash_sutcliffe_efficiency(discharge1[1:], original_predictions_multi_array10)\n",
        "print(\"Nash-Sutcliffe Efficiency (NSE):\", nse_value)\n",
        "\n",
        "print('rmse=',calculate_rmse(discharge1[1:], original_predictions_multi_array10))\n",
        "\n",
        "print('kge=',kge(discharge1[1:], original_predictions_multi_array10))"
      ],
      "metadata": {
        "colab": {
          "base_uri": "https://localhost:8080/"
        },
        "id": "Mi9EIIkfp_du",
        "outputId": "9338b1e7-38a4-4f06-bdf7-7333cbecba46"
      },
      "execution_count": 660,
      "outputs": [
        {
          "output_type": "stream",
          "name": "stdout",
          "text": [
            "Nash-Sutcliffe Efficiency (NSE): 0.9149971816024951\n",
            "rmse= 62.96801862450735\n",
            "kge= 0.9459302553172786\n"
          ]
        }
      ]
    },
    {
      "cell_type": "code",
      "source": [
        "# Create a date range from '01-01-2000' to '12-31-2005'\n",
        "time1 = np.datetime64('2004-01-02')  # Start date\n",
        "time2 = np.datetime64('2005-12-31')  # End date\n",
        "time = np.arange(time1, time2 + np.timedelta64(1, 'D'), dtype='datetime64[D]')\n",
        "\n",
        "# Create a figure and axes with a reduced figure size\n",
        "fig, ax1 = plt.subplots(figsize=(6.5, 3.))\n",
        "\n",
        "# Plot a histogram for precipitation on ax1\n",
        "ax1.bar(time, prec1[1:], color='black')\n",
        "\n",
        "# Format the x-axis labels\n",
        "ax1.xaxis.set_major_formatter(plt.matplotlib.dates.DateFormatter('%Y-%m'))\n",
        "plt.xticks(rotation=45)\n",
        "\n",
        "ax1.set_xlabel('Date t [days]')\n",
        "\n",
        "# Y-axis settings for precipitation\n",
        "ax1.set_ylabel('Precipitation [mm]', color='black')\n",
        "ax1.tick_params(axis='y', labelcolor='black')\n",
        "ax1.set_ylim(0, 100)\n",
        "ax1.set_yticks(np.arange(0, 101, 20))\n",
        "\n",
        "# Invert the y-axis and place ticks on the left for precipitation\n",
        "ax1.invert_yaxis()\n",
        "ax1.yaxis.set_label_position(\"left\")\n",
        "\n",
        "# Create a second y-axis to plot discharge\n",
        "ax2 = ax1.twinx()\n",
        "ax2.plot(time, discharge1[1:], 'b--', label='Qobs')\n",
        "\n",
        "# Plot minimum, maximum, and mean values as a confidence region\n",
        "#ax2.fill_between(time, min_trajectory, max_trajectory, color='gray', alpha=0.3, label='99% CrI')\n",
        "\n",
        "# Plot the prediction\n",
        "ax2.plot(time, original_predictions_multi_array10, 'g', label='LSTM')\n",
        "ax2.plot(time, S7110[1:], 'r', label='HyMoLAP')\n",
        "\n",
        "\n",
        "# Y-axis settings for daily discharge\n",
        "ax2.set_ylabel('Discharge Q [m³/s]', color='blue')\n",
        "ax2.tick_params(axis='y', labelcolor='blue')\n",
        "ax2.set_ylim(-60, 1400)\n",
        "ax2.set_yticks(np.arange(0, 1400, 400))\n",
        "\n",
        "# Add a legend inside the plot\n",
        "fig.legend(loc='upper left', bbox_to_anchor=(0.12, 0.75))\n",
        "\n",
        "# Display the grid\n",
        "#plt.grid(True)\n",
        "\n",
        "# Add a title to the plot with LaTeX mathematical symbols\n",
        "plt.title(r'$10$-$day$ $lead$ $time$')\n",
        "\n",
        "# Use tight_layout to avoid overlaps\n",
        "plt.tight_layout()\n",
        "\n",
        "\n",
        "# Display the plot\n",
        "plt.show()\n"
      ],
      "metadata": {
        "colab": {
          "base_uri": "https://localhost:8080/",
          "height": 307
        },
        "id": "Nw93cGl6qAh-",
        "outputId": "756cbe09-9df5-46fe-d83c-6c20e811a9a0"
      },
      "execution_count": 661,
      "outputs": [
        {
          "output_type": "display_data",
          "data": {
            "text/plain": [
              "<Figure size 650x300 with 2 Axes>"
            ],
            "image/png": "[encoded data removed]"
          },
          "metadata": {}
        }
      ]
    }
  ],
  "metadata": {
    "colab": {
      "provenance": []
    },
    "kernelspec": {
      "display_name": "Python 3",
      "name": "python3"
    },
    "language_info": {
      "name": "python"
    }
  },
  "nbformat": 4,
  "nbformat_minor": 0
}